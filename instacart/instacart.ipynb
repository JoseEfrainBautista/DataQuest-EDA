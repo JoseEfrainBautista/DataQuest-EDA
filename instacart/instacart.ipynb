{
 "cells": [
  {
   "cell_type": "markdown",
   "id": "3Xg_RQfnafXz",
   "metadata": {
    "id": "3Xg_RQfnafXz"
   },
   "source": [
    "# ¡Llena ese carrito!"
   ]
  },
  {
   "cell_type": "markdown",
   "id": "mhIvmmkW414q",
   "metadata": {
    "id": "mhIvmmkW414q"
   },
   "source": [
    "# Introducción\n",
    "\n",
    "Instacart es una plataforma de entregas de comestibles donde la clientela puede registrar un pedido y hacer que se lo entreguen, similar a Uber Eats y Door Dash.\n",
    "El conjunto de datos que te hemos proporcionado tiene modificaciones del original. Redujimos el tamaño del conjunto para que tus cálculos se hicieran más rápido e introdujimos valores ausentes y duplicados. Tuvimos cuidado de conservar las distribuciones de los datos originales cuando hicimos los cambios.\n",
    "\n",
    "Debes completar tres pasos. Para cada uno de ellos, escribe una breve introducción que refleje con claridad cómo pretendes resolver cada paso, y escribe párrafos explicatorios que justifiquen tus decisiones al tiempo que avanzas en tu solución.  También escribe una conclusión que resuma tus hallazgos y elecciones.\n"
   ]
  },
  {
   "cell_type": "markdown",
   "id": "3MbyzpOQZ5Or",
   "metadata": {
    "id": "3MbyzpOQZ5Or"
   },
   "source": [
    "## Diccionario de datos\n",
    "\n",
    "Hay cinco tablas en el conjunto de datos, y tendrás que usarlas todas para hacer el preprocesamiento de datos y el análisis exploratorio de datos. A continuación se muestra un diccionario de datos que enumera las columnas de cada tabla y describe los datos que contienen.\n",
    "\n",
    "- `instacart_orders.csv`: cada fila corresponde a un pedido en la aplicación Instacart.\n",
    "    - `'order_id'`: número de ID que identifica de manera única cada pedido.\n",
    "    - `'user_id'`: número de ID que identifica de manera única la cuenta de cada cliente.\n",
    "    - `'order_number'`: el número de veces que este cliente ha hecho un pedido.\n",
    "    - `'order_dow'`: día de la semana en que se hizo el pedido (0 si es domingo).\n",
    "    - `'order_hour_of_day'`: hora del día en que se hizo el pedido.\n",
    "    - `'days_since_prior_order'`: número de días transcurridos desde que este cliente hizo su pedido anterior.\n",
    "- `products.csv`: cada fila corresponde a un producto único que pueden comprar los clientes.\n",
    "    - `'product_id'`: número ID que identifica de manera única cada producto.\n",
    "    - `'product_name'`: nombre del producto.\n",
    "    - `'aisle_id'`: número ID que identifica de manera única cada categoría de pasillo de víveres.\n",
    "    - `'department_id'`: número ID que identifica de manera única cada departamento de víveres.\n",
    "- `order_products.csv`: cada fila corresponde a un artículo pedido en un pedido.\n",
    "    - `'order_id'`: número de ID que identifica de manera única cada pedido.\n",
    "    - `'product_id'`: número ID que identifica de manera única cada producto.\n",
    "    - `'add_to_cart_order'`: el orden secuencial en el que se añadió cada artículo en el carrito.\n",
    "    - `'reordered'`: 0 si el cliente nunca ha pedido este producto antes, 1 si lo ha pedido.\n",
    "- `aisles.csv`\n",
    "    - `'aisle_id'`: número ID que identifica de manera única cada categoría de pasillo de víveres.\n",
    "    - `'aisle'`: nombre del pasillo.\n",
    "- `departments.csv`\n",
    "    - `'department_id'`: número ID que identifica de manera única cada departamento de víveres.\n",
    "    - `'department'`: nombre del departamento."
   ]
  },
  {
   "cell_type": "markdown",
   "id": "n3Ha_cNSZ8lK",
   "metadata": {
    "id": "n3Ha_cNSZ8lK"
   },
   "source": [
    "# Paso 1. Descripción de los datos\n",
    "\n",
    "Lee los archivos de datos (`/datasets/instacart_orders.csv`, `/datasets/products.csv`, `/datasets/aisles.csv`, `/datasets/departments.csv` y `/datasets/order_products.csv`) con `pd.read_csv()` usando los parámetros adecuados para leer los datos correctamente. Verifica la información para cada DataFrame creado.\n"
   ]
  },
  {
   "cell_type": "markdown",
   "id": "OmlQPLlyaAfR",
   "metadata": {
    "id": "OmlQPLlyaAfR"
   },
   "source": [
    "## Plan de solución\n",
    "\n",
    "En primera instancia vamos a importar la librería \"pandas\" para leer los datasets, luego de leer los 5 datasets, se almacenará en 5 DataFrames diferentes; por último verificaremos la estructura de cada Dataframe, columnas y tipo de datos."
   ]
  },
  {
   "cell_type": "code",
   "execution_count": 16,
   "id": "fbf1adab",
   "metadata": {
    "id": "fbf1adab"
   },
   "outputs": [],
   "source": [
    "# importar librerías\n",
    "import pandas as pd\n",
    "import numpy as np\n",
    "from matplotlib import pyplot as plt"
   ]
  },
  {
   "cell_type": "code",
   "execution_count": 17,
   "id": "ad36396d",
   "metadata": {
    "id": "ad36396d"
   },
   "outputs": [],
   "source": [
    "# leer conjuntos de datos en los DataFrames\n",
    "\n",
    "# Definimos el separador de las columnas con sep = ';' en los 5 DataFrames, dado que\n",
    "# las columnas no están separadas por comas (por defecto de un csv).\n",
    "\n",
    "df_instacart_orders = pd.read_csv(\n",
    "    \"https://drive.google.com/uc?id=15AbAKmsxiHOzx3a4LEEFZFH4z4PgcgYU\",\n",
    "    sep=';')\n",
    "df_products = pd.read_csv(\n",
    "    \"https://drive.google.com/uc?id=1MqC92OnOfs1s77YXkWYrDOKnzK2H658Q\",\n",
    "    sep=';')\n",
    "df_aisles = pd.read_csv(\n",
    "    \"https://drive.google.com/uc?id=1WnU3DEWHYWna0jox4p-uastjjJZ9p0Bp\",\n",
    "    sep=';')\n",
    "df_departments = pd.read_csv(\n",
    "    \"https://drive.google.com/uc?id=1Md_Ze5Z6HESNDnAMBhFYYP70GOGE7IeT\",\n",
    "    sep=';')\n",
    "df_order_products = pd.read_csv(\n",
    "    \"https://drive.google.com/uc?id=1denInfaIKJ7jnLGaJrQzd-ZLTqwH0O1B\",\n",
    "    sep=';')"
   ]
  },
  {
   "cell_type": "code",
   "execution_count": 18,
   "id": "ad6a1efa",
   "metadata": {
    "id": "ad6a1efa"
   },
   "outputs": [
    {
     "name": "stdout",
     "output_type": "stream",
     "text": [
      "<class 'pandas.core.frame.DataFrame'>\n",
      "RangeIndex: 478967 entries, 0 to 478966\n",
      "Data columns (total 6 columns):\n",
      " #   Column                  Non-Null Count   Dtype  \n",
      "---  ------                  --------------   -----  \n",
      " 0   order_id                478967 non-null  int64  \n",
      " 1   user_id                 478967 non-null  int64  \n",
      " 2   order_number            478967 non-null  int64  \n",
      " 3   order_dow               478967 non-null  int64  \n",
      " 4   order_hour_of_day       478967 non-null  int64  \n",
      " 5   days_since_prior_order  450148 non-null  float64\n",
      "dtypes: float64(1), int64(5)\n",
      "memory usage: 21.9 MB\n"
     ]
    }
   ],
   "source": [
    "# mostrar información del DataFrame\n",
    "df_instacart_orders.info()"
   ]
  },
  {
   "cell_type": "code",
   "execution_count": 19,
   "id": "5130e05e",
   "metadata": {
    "id": "5130e05e"
   },
   "outputs": [
    {
     "name": "stdout",
     "output_type": "stream",
     "text": [
      "<class 'pandas.core.frame.DataFrame'>\n",
      "RangeIndex: 49694 entries, 0 to 49693\n",
      "Data columns (total 4 columns):\n",
      " #   Column         Non-Null Count  Dtype \n",
      "---  ------         --------------  ----- \n",
      " 0   product_id     49694 non-null  int64 \n",
      " 1   product_name   48436 non-null  object\n",
      " 2   aisle_id       49694 non-null  int64 \n",
      " 3   department_id  49694 non-null  int64 \n",
      "dtypes: int64(3), object(1)\n",
      "memory usage: 1.5+ MB\n"
     ]
    }
   ],
   "source": [
    "# mostrar información del DataFrame\n",
    "df_products.info()"
   ]
  },
  {
   "cell_type": "code",
   "execution_count": 20,
   "id": "d8370c05",
   "metadata": {
    "id": "d8370c05"
   },
   "outputs": [
    {
     "name": "stdout",
     "output_type": "stream",
     "text": [
      "<class 'pandas.core.frame.DataFrame'>\n",
      "RangeIndex: 134 entries, 0 to 133\n",
      "Data columns (total 2 columns):\n",
      " #   Column    Non-Null Count  Dtype \n",
      "---  ------    --------------  ----- \n",
      " 0   aisle_id  134 non-null    int64 \n",
      " 1   aisle     134 non-null    object\n",
      "dtypes: int64(1), object(1)\n",
      "memory usage: 2.2+ KB\n"
     ]
    }
   ],
   "source": [
    "# mostrar información del DataFrame\n",
    "df_aisles.info()"
   ]
  },
  {
   "cell_type": "code",
   "execution_count": 21,
   "id": "59e2090f",
   "metadata": {
    "id": "59e2090f"
   },
   "outputs": [
    {
     "name": "stdout",
     "output_type": "stream",
     "text": [
      "<class 'pandas.core.frame.DataFrame'>\n",
      "RangeIndex: 21 entries, 0 to 20\n",
      "Data columns (total 2 columns):\n",
      " #   Column         Non-Null Count  Dtype \n",
      "---  ------         --------------  ----- \n",
      " 0   department_id  21 non-null     int64 \n",
      " 1   department     21 non-null     object\n",
      "dtypes: int64(1), object(1)\n",
      "memory usage: 468.0+ bytes\n"
     ]
    }
   ],
   "source": [
    "# mostrar información del DataFrame\n",
    "df_departments.info()"
   ]
  },
  {
   "cell_type": "code",
   "execution_count": 22,
   "id": "f33964b0",
   "metadata": {},
   "outputs": [
    {
     "name": "stdout",
     "output_type": "stream",
     "text": [
      "<class 'pandas.core.frame.DataFrame'>\n",
      "RangeIndex: 4545007 entries, 0 to 4545006\n",
      "Data columns (total 4 columns):\n",
      " #   Column             Non-Null Count    Dtype  \n",
      "---  ------             --------------    -----  \n",
      " 0   order_id           4545007 non-null  int64  \n",
      " 1   product_id         4545007 non-null  int64  \n",
      " 2   add_to_cart_order  4544171 non-null  float64\n",
      " 3   reordered          4545007 non-null  int64  \n",
      "dtypes: float64(1), int64(3)\n",
      "memory usage: 138.7 MB\n"
     ]
    }
   ],
   "source": [
    "# mostrar información del DataFrame\n",
    "# agregamos el argumento \"show_counts=True\" para imprimir recuentos no nulos\n",
    "df_order_products.info(show_counts=True)"
   ]
  },
  {
   "cell_type": "markdown",
   "id": "t75BD19oaR5f",
   "metadata": {
    "id": "t75BD19oaR5f"
   },
   "source": [
    "## Conclusiones\n",
    "\n",
    "En el Paso 1 se realizó la carga y revisión inicial de los cinco conjuntos de datos principales: `instacart_orders`, `products`, `aisles`, `departments` y `order_products`. Se verificó la estructura de cada DataFrame, el tipo de datos de sus columnas y la presencia de valores nulos. Se identificó que los archivos CSV requerían el parámetro `sep=';'` para su correcta lectura. Además, se observó que algunos DataFrames contienen valores ausentes y que el volumen de datos es considerable, lo que puede afectar la visualización de información completa en pantalla. Esta revisión inicial permitió conocer la estructura y calidad de los datos, sentando las bases para el preprocesamiento y análisis posterior.\n"
   ]
  },
  {
   "cell_type": "markdown",
   "id": "8RJHqxVmaVsF",
   "metadata": {
    "id": "8RJHqxVmaVsF"
   },
   "source": [
    "# Paso 2. Preprocesamiento de los datos\n",
    "\n",
    "Preprocesa los datos de la siguiente manera:\n",
    "\n",
    "- Verifica y corrige los tipos de datos (por ejemplo, asegúrate de que las columnas de ID sean números enteros).\n",
    "- Identifica y completa los valores ausentes.\n",
    "- Identifica y elimina los valores duplicados.\n",
    "\n",
    "Asegúrate de explicar qué tipos de valores ausentes y duplicados encontraste, cómo los completaste o eliminaste y por qué usaste esos métodos. ¿Por qué crees que estos valores ausentes y duplicados pueden haber estado presentes en el conjunto de datos?"
   ]
  },
  {
   "cell_type": "markdown",
   "id": "p6poABZQaZYb",
   "metadata": {
    "id": "p6poABZQaZYb"
   },
   "source": [
    "## Plan de solución\n",
    "\n",
    "Vamos a verificar si existen filas y ID's (datos únicos) duplicados en cada DataFrame, vamos a tratar o eliminar valores ausentes según sea el caso en los DataFrames."
   ]
  },
  {
   "cell_type": "markdown",
   "id": "07357848-dc64-4156-9cc3-01ff4365226d",
   "metadata": {
    "id": "07357848-dc64-4156-9cc3-01ff4365226d"
   },
   "source": [
    "## Encuentra y elimina los valores duplicados (y describe cómo tomaste tus decisiones)."
   ]
  },
  {
   "cell_type": "markdown",
   "id": "f179f0a9",
   "metadata": {
    "id": "f179f0a9"
   },
   "source": [
    "### `orders` data frame"
   ]
  },
  {
   "cell_type": "code",
   "execution_count": 23,
   "id": "b99297a5-405a-463d-8535-9adc3da4ad74",
   "metadata": {
    "id": "b99297a5-405a-463d-8535-9adc3da4ad74"
   },
   "outputs": [
    {
     "data": {
      "text/plain": [
       "np.int64(15)"
      ]
     },
     "execution_count": 23,
     "metadata": {},
     "output_type": "execute_result"
    }
   ],
   "source": [
    "# Revisa si hay pedidos duplicados\n",
    "# Lo podemoas hacer con el duplicated().sum() sobre el DataFrame:\n",
    "df_instacart_orders.duplicated().sum()"
   ]
  },
  {
   "cell_type": "code",
   "execution_count": 24,
   "id": "c279a6b5-0ca5-4354-88b6-758f1c7c4c1f",
   "metadata": {},
   "outputs": [
    {
     "data": {
      "application/vnd.microsoft.datawrangler.viewer.v0+json": {
       "columns": [
        {
         "name": "index",
         "rawType": "int64",
         "type": "integer"
        },
        {
         "name": "order_id",
         "rawType": "int64",
         "type": "integer"
        },
        {
         "name": "user_id",
         "rawType": "int64",
         "type": "integer"
        },
        {
         "name": "order_number",
         "rawType": "int64",
         "type": "integer"
        },
        {
         "name": "order_dow",
         "rawType": "int64",
         "type": "integer"
        },
        {
         "name": "order_hour_of_day",
         "rawType": "int64",
         "type": "integer"
        },
        {
         "name": "days_since_prior_order",
         "rawType": "float64",
         "type": "float"
        }
       ],
       "ref": "da27d72c-f337-478f-b317-faf76416d21c",
       "rows": [
        [
         "371905",
         "391768",
         "57671",
         "19",
         "3",
         "2",
         "10.0"
        ],
        [
         "321100",
         "408114",
         "68324",
         "4",
         "3",
         "2",
         "18.0"
        ],
        [
         "394347",
         "467134",
         "63189",
         "21",
         "3",
         "2",
         "2.0"
        ],
        [
         "145574",
         "794638",
         "50898",
         "24",
         "3",
         "2",
         "2.0"
        ],
        [
         "311713",
         "1021560",
         "53767",
         "3",
         "3",
         "2",
         "9.0"
        ],
        [
         "273805",
         "1112182",
         "202304",
         "84",
         "3",
         "2",
         "6.0"
        ],
        [
         "411408",
         "1286742",
         "183220",
         "48",
         "3",
         "2",
         "4.0"
        ],
        [
         "266232",
         "1782114",
         "106752",
         "1",
         "3",
         "2",
         null
        ],
        [
         "230807",
         "1918001",
         "188546",
         "14",
         "3",
         "2",
         "16.0"
        ],
        [
         "323900",
         "1919531",
         "191501",
         "32",
         "3",
         "2",
         "7.0"
        ],
        [
         "441599",
         "2125197",
         "14050",
         "48",
         "3",
         "2",
         "3.0"
        ],
        [
         "223105",
         "2160484",
         "107525",
         "16",
         "3",
         "2",
         "30.0"
        ],
        [
         "345917",
         "2232988",
         "82565",
         "1",
         "3",
         "2",
         null
        ],
        [
         "415163",
         "2282673",
         "86751",
         "49",
         "3",
         "2",
         "2.0"
        ],
        [
         "284038",
         "2845099",
         "31189",
         "11",
         "3",
         "2",
         "7.0"
        ]
       ],
       "shape": {
        "columns": 6,
        "rows": 15
       }
      },
      "text/html": [
       "<div>\n",
       "<style scoped>\n",
       "    .dataframe tbody tr th:only-of-type {\n",
       "        vertical-align: middle;\n",
       "    }\n",
       "\n",
       "    .dataframe tbody tr th {\n",
       "        vertical-align: top;\n",
       "    }\n",
       "\n",
       "    .dataframe thead th {\n",
       "        text-align: right;\n",
       "    }\n",
       "</style>\n",
       "<table border=\"1\" class=\"dataframe\">\n",
       "  <thead>\n",
       "    <tr style=\"text-align: right;\">\n",
       "      <th></th>\n",
       "      <th>order_id</th>\n",
       "      <th>user_id</th>\n",
       "      <th>order_number</th>\n",
       "      <th>order_dow</th>\n",
       "      <th>order_hour_of_day</th>\n",
       "      <th>days_since_prior_order</th>\n",
       "    </tr>\n",
       "  </thead>\n",
       "  <tbody>\n",
       "    <tr>\n",
       "      <th>371905</th>\n",
       "      <td>391768</td>\n",
       "      <td>57671</td>\n",
       "      <td>19</td>\n",
       "      <td>3</td>\n",
       "      <td>2</td>\n",
       "      <td>10.0</td>\n",
       "    </tr>\n",
       "    <tr>\n",
       "      <th>321100</th>\n",
       "      <td>408114</td>\n",
       "      <td>68324</td>\n",
       "      <td>4</td>\n",
       "      <td>3</td>\n",
       "      <td>2</td>\n",
       "      <td>18.0</td>\n",
       "    </tr>\n",
       "    <tr>\n",
       "      <th>394347</th>\n",
       "      <td>467134</td>\n",
       "      <td>63189</td>\n",
       "      <td>21</td>\n",
       "      <td>3</td>\n",
       "      <td>2</td>\n",
       "      <td>2.0</td>\n",
       "    </tr>\n",
       "    <tr>\n",
       "      <th>145574</th>\n",
       "      <td>794638</td>\n",
       "      <td>50898</td>\n",
       "      <td>24</td>\n",
       "      <td>3</td>\n",
       "      <td>2</td>\n",
       "      <td>2.0</td>\n",
       "    </tr>\n",
       "    <tr>\n",
       "      <th>311713</th>\n",
       "      <td>1021560</td>\n",
       "      <td>53767</td>\n",
       "      <td>3</td>\n",
       "      <td>3</td>\n",
       "      <td>2</td>\n",
       "      <td>9.0</td>\n",
       "    </tr>\n",
       "    <tr>\n",
       "      <th>273805</th>\n",
       "      <td>1112182</td>\n",
       "      <td>202304</td>\n",
       "      <td>84</td>\n",
       "      <td>3</td>\n",
       "      <td>2</td>\n",
       "      <td>6.0</td>\n",
       "    </tr>\n",
       "    <tr>\n",
       "      <th>411408</th>\n",
       "      <td>1286742</td>\n",
       "      <td>183220</td>\n",
       "      <td>48</td>\n",
       "      <td>3</td>\n",
       "      <td>2</td>\n",
       "      <td>4.0</td>\n",
       "    </tr>\n",
       "    <tr>\n",
       "      <th>266232</th>\n",
       "      <td>1782114</td>\n",
       "      <td>106752</td>\n",
       "      <td>1</td>\n",
       "      <td>3</td>\n",
       "      <td>2</td>\n",
       "      <td>NaN</td>\n",
       "    </tr>\n",
       "    <tr>\n",
       "      <th>230807</th>\n",
       "      <td>1918001</td>\n",
       "      <td>188546</td>\n",
       "      <td>14</td>\n",
       "      <td>3</td>\n",
       "      <td>2</td>\n",
       "      <td>16.0</td>\n",
       "    </tr>\n",
       "    <tr>\n",
       "      <th>323900</th>\n",
       "      <td>1919531</td>\n",
       "      <td>191501</td>\n",
       "      <td>32</td>\n",
       "      <td>3</td>\n",
       "      <td>2</td>\n",
       "      <td>7.0</td>\n",
       "    </tr>\n",
       "    <tr>\n",
       "      <th>441599</th>\n",
       "      <td>2125197</td>\n",
       "      <td>14050</td>\n",
       "      <td>48</td>\n",
       "      <td>3</td>\n",
       "      <td>2</td>\n",
       "      <td>3.0</td>\n",
       "    </tr>\n",
       "    <tr>\n",
       "      <th>223105</th>\n",
       "      <td>2160484</td>\n",
       "      <td>107525</td>\n",
       "      <td>16</td>\n",
       "      <td>3</td>\n",
       "      <td>2</td>\n",
       "      <td>30.0</td>\n",
       "    </tr>\n",
       "    <tr>\n",
       "      <th>345917</th>\n",
       "      <td>2232988</td>\n",
       "      <td>82565</td>\n",
       "      <td>1</td>\n",
       "      <td>3</td>\n",
       "      <td>2</td>\n",
       "      <td>NaN</td>\n",
       "    </tr>\n",
       "    <tr>\n",
       "      <th>415163</th>\n",
       "      <td>2282673</td>\n",
       "      <td>86751</td>\n",
       "      <td>49</td>\n",
       "      <td>3</td>\n",
       "      <td>2</td>\n",
       "      <td>2.0</td>\n",
       "    </tr>\n",
       "    <tr>\n",
       "      <th>284038</th>\n",
       "      <td>2845099</td>\n",
       "      <td>31189</td>\n",
       "      <td>11</td>\n",
       "      <td>3</td>\n",
       "      <td>2</td>\n",
       "      <td>7.0</td>\n",
       "    </tr>\n",
       "  </tbody>\n",
       "</table>\n",
       "</div>"
      ],
      "text/plain": [
       "        order_id  user_id  order_number  order_dow  order_hour_of_day  \\\n",
       "371905    391768    57671            19          3                  2   \n",
       "321100    408114    68324             4          3                  2   \n",
       "394347    467134    63189            21          3                  2   \n",
       "145574    794638    50898            24          3                  2   \n",
       "311713   1021560    53767             3          3                  2   \n",
       "273805   1112182   202304            84          3                  2   \n",
       "411408   1286742   183220            48          3                  2   \n",
       "266232   1782114   106752             1          3                  2   \n",
       "230807   1918001   188546            14          3                  2   \n",
       "323900   1919531   191501            32          3                  2   \n",
       "441599   2125197    14050            48          3                  2   \n",
       "223105   2160484   107525            16          3                  2   \n",
       "345917   2232988    82565             1          3                  2   \n",
       "415163   2282673    86751            49          3                  2   \n",
       "284038   2845099    31189            11          3                  2   \n",
       "\n",
       "        days_since_prior_order  \n",
       "371905                    10.0  \n",
       "321100                    18.0  \n",
       "394347                     2.0  \n",
       "145574                     2.0  \n",
       "311713                     9.0  \n",
       "273805                     6.0  \n",
       "411408                     4.0  \n",
       "266232                     NaN  \n",
       "230807                    16.0  \n",
       "323900                     7.0  \n",
       "441599                     3.0  \n",
       "223105                    30.0  \n",
       "345917                     NaN  \n",
       "415163                     2.0  \n",
       "284038                     7.0  "
      ]
     },
     "execution_count": 24,
     "metadata": {},
     "output_type": "execute_result"
    }
   ],
   "source": [
    "# Mostramos las filas duplicadas con el siguiente filtro \n",
    "# y ordenamos por la columna 'order_id':\n",
    "df_instacart_orders[df_instacart_orders.duplicated()].sort_values('order_id')"
   ]
  },
  {
   "cell_type": "markdown",
   "id": "PEkwUX_gvt5A",
   "metadata": {
    "id": "PEkwUX_gvt5A"
   },
   "source": [
    "¿Tienes líneas duplicadas?\n",
    "SI, se tiene 15 líneas duplicadas.\n",
    "¿Qué tienen en común?\n",
    "Todas se generaron a las 2 hrs del día 3."
   ]
  },
  {
   "cell_type": "code",
   "execution_count": 25,
   "id": "0d44de5d",
   "metadata": {
    "id": "0d44de5d"
   },
   "outputs": [
    {
     "name": "stdout",
     "output_type": "stream",
     "text": [
      "        order_id  user_id  order_number  order_dow  order_hour_of_day  \\\n",
      "4838     2766110   162084            41          3                  2   \n",
      "5156     2190225   138285            18          3                  2   \n",
      "15506     553049    58599            13          3                  2   \n",
      "18420     382357   120200            19          3                  2   \n",
      "24691     690242    77357             2          3                  2   \n",
      "...          ...      ...           ...        ...                ...   \n",
      "457013   3384021    14881             6          3                  2   \n",
      "458816    910166   164782            18          3                  2   \n",
      "459635   1680532   106435             6          3                  2   \n",
      "468324    222962    54979            59          3                  2   \n",
      "477526   2592344    46860            38          3                  2   \n",
      "\n",
      "        days_since_prior_order  \n",
      "4838                      16.0  \n",
      "5156                      11.0  \n",
      "15506                      7.0  \n",
      "18420                     11.0  \n",
      "24691                      9.0  \n",
      "...                        ...  \n",
      "457013                    30.0  \n",
      "458816                     4.0  \n",
      "459635                    21.0  \n",
      "468324                     3.0  \n",
      "477526                     3.0  \n",
      "\n",
      "[121 rows x 6 columns]\n"
     ]
    }
   ],
   "source": [
    "# Basándote en tus hallazgos,\n",
    "# Verifica todos los pedidos que se hicieron el miércoles a las 2:00 a.m.\n",
    "df_miercoles_2am = df_instacart_orders[df_instacart_orders['order_dow'] == 3 ]\n",
    "df_miercoles_2am = df_miercoles_2am[df_miercoles_2am['order_hour_of_day'] == 2]\n",
    "print(df_miercoles_2am)"
   ]
  },
  {
   "cell_type": "markdown",
   "id": "vu2OWyoqwOx5",
   "metadata": {
    "id": "vu2OWyoqwOx5"
   },
   "source": [
    "¿Qué sugiere este resultado? Los pedidos duplicados son 15 y se realizaron el día 3 a las 2 hrs."
   ]
  },
  {
   "cell_type": "code",
   "execution_count": 26,
   "id": "480563c7",
   "metadata": {
    "id": "480563c7"
   },
   "outputs": [
    {
     "data": {
      "application/vnd.microsoft.datawrangler.viewer.v0+json": {
       "columns": [
        {
         "name": "index",
         "rawType": "int64",
         "type": "integer"
        },
        {
         "name": "order_id",
         "rawType": "int64",
         "type": "integer"
        },
        {
         "name": "user_id",
         "rawType": "int64",
         "type": "integer"
        },
        {
         "name": "order_number",
         "rawType": "int64",
         "type": "integer"
        },
        {
         "name": "order_dow",
         "rawType": "int64",
         "type": "integer"
        },
        {
         "name": "order_hour_of_day",
         "rawType": "int64",
         "type": "integer"
        },
        {
         "name": "days_since_prior_order",
         "rawType": "float64",
         "type": "float"
        }
       ],
       "ref": "e7f38b25-56dd-4c50-9911-c3b34f14a2e0",
       "rows": [
        [
         "0",
         "1515936",
         "183418",
         "11",
         "6",
         "13",
         "30.0"
        ],
        [
         "1",
         "1690866",
         "163593",
         "5",
         "5",
         "12",
         "9.0"
        ],
        [
         "2",
         "1454967",
         "39980",
         "4",
         "5",
         "19",
         "2.0"
        ],
        [
         "3",
         "1768857",
         "82516",
         "56",
         "0",
         "20",
         "10.0"
        ],
        [
         "4",
         "3007858",
         "196724",
         "2",
         "4",
         "12",
         "17.0"
        ],
        [
         "5",
         "1843871",
         "20084",
         "5",
         "0",
         "11",
         "15.0"
        ],
        [
         "6",
         "2511640",
         "148233",
         "40",
         "3",
         "8",
         "2.0"
        ],
        [
         "7",
         "2521283",
         "97711",
         "2",
         "0",
         "18",
         "22.0"
        ],
        [
         "8",
         "2266494",
         "34954",
         "40",
         "5",
         "15",
         "4.0"
        ],
        [
         "9",
         "446014",
         "15356",
         "2",
         "4",
         "8",
         "10.0"
        ],
        [
         "10",
         "1162566",
         "43738",
         "33",
         "4",
         "11",
         "2.0"
        ],
        [
         "11",
         "102585",
         "191558",
         "18",
         "6",
         "16",
         "8.0"
        ],
        [
         "12",
         "2276302",
         "190167",
         "21",
         "1",
         "12",
         "2.0"
        ],
        [
         "13",
         "782916",
         "36310",
         "34",
         "5",
         "9",
         "3.0"
        ],
        [
         "14",
         "2843219",
         "74699",
         "4",
         "6",
         "11",
         "30.0"
        ],
        [
         "15",
         "1989200",
         "71810",
         "4",
         "1",
         "9",
         "12.0"
        ],
        [
         "16",
         "3109465",
         "55090",
         "19",
         "3",
         "15",
         "9.0"
        ],
        [
         "17",
         "727519",
         "146663",
         "7",
         "4",
         "22",
         "11.0"
        ],
        [
         "18",
         "556588",
         "6801",
         "63",
         "5",
         "11",
         "7.0"
        ],
        [
         "19",
         "294269",
         "107523",
         "29",
         "2",
         "10",
         "1.0"
        ],
        [
         "20",
         "50934",
         "178510",
         "9",
         "6",
         "9",
         "5.0"
        ],
        [
         "21",
         "3097921",
         "97319",
         "40",
         "4",
         "9",
         "8.0"
        ],
        [
         "22",
         "1546269",
         "182211",
         "12",
         "1",
         "15",
         "6.0"
        ],
        [
         "23",
         "3406282",
         "19356",
         "21",
         "0",
         "0",
         "14.0"
        ],
        [
         "24",
         "3358682",
         "162252",
         "14",
         "5",
         "8",
         "5.0"
        ],
        [
         "25",
         "1895419",
         "169793",
         "2",
         "0",
         "11",
         "8.0"
        ],
        [
         "26",
         "1844247",
         "122558",
         "4",
         "6",
         "18",
         "30.0"
        ],
        [
         "27",
         "457775",
         "61263",
         "24",
         "0",
         "16",
         "7.0"
        ],
        [
         "28",
         "133707",
         "182261",
         "1",
         "3",
         "10",
         null
        ],
        [
         "29",
         "547066",
         "278",
         "38",
         "1",
         "14",
         "4.0"
        ],
        [
         "30",
         "1890318",
         "193501",
         "3",
         "3",
         "15",
         "30.0"
        ],
        [
         "31",
         "1804574",
         "195874",
         "4",
         "1",
         "14",
         "30.0"
        ],
        [
         "32",
         "2744097",
         "5316",
         "27",
         "2",
         "17",
         "8.0"
        ],
        [
         "33",
         "2672948",
         "159620",
         "8",
         "5",
         "16",
         "3.0"
        ],
        [
         "34",
         "1864378",
         "94267",
         "25",
         "0",
         "11",
         "7.0"
        ],
        [
         "35",
         "125325",
         "106853",
         "6",
         "3",
         "19",
         "30.0"
        ],
        [
         "36",
         "3378084",
         "127629",
         "21",
         "1",
         "10",
         "20.0"
        ],
        [
         "37",
         "1559475",
         "94261",
         "7",
         "0",
         "1",
         "8.0"
        ],
        [
         "38",
         "6891",
         "61176",
         "6",
         "6",
         "16",
         "30.0"
        ],
        [
         "39",
         "1673791",
         "50",
         "8",
         "6",
         "14",
         "3.0"
        ],
        [
         "40",
         "1521693",
         "51377",
         "2",
         "4",
         "14",
         "15.0"
        ],
        [
         "41",
         "939348",
         "21335",
         "28",
         "2",
         "15",
         "6.0"
        ],
        [
         "42",
         "3229994",
         "37136",
         "9",
         "6",
         "12",
         "30.0"
        ],
        [
         "43",
         "698527",
         "95296",
         "58",
         "3",
         "14",
         "22.0"
        ],
        [
         "44",
         "1590582",
         "85603",
         "2",
         "1",
         "20",
         "16.0"
        ],
        [
         "45",
         "2057617",
         "88111",
         "8",
         "1",
         "7",
         "6.0"
        ],
        [
         "46",
         "2398578",
         "84825",
         "2",
         "2",
         "17",
         "4.0"
        ],
        [
         "47",
         "80255",
         "11655",
         "17",
         "4",
         "8",
         "30.0"
        ],
        [
         "48",
         "3247802",
         "118480",
         "13",
         "0",
         "11",
         "8.0"
        ],
        [
         "49",
         "2161799",
         "87345",
         "7",
         "0",
         "10",
         "24.0"
        ]
       ],
       "shape": {
        "columns": 6,
        "rows": 478952
       }
      },
      "text/html": [
       "<div>\n",
       "<style scoped>\n",
       "    .dataframe tbody tr th:only-of-type {\n",
       "        vertical-align: middle;\n",
       "    }\n",
       "\n",
       "    .dataframe tbody tr th {\n",
       "        vertical-align: top;\n",
       "    }\n",
       "\n",
       "    .dataframe thead th {\n",
       "        text-align: right;\n",
       "    }\n",
       "</style>\n",
       "<table border=\"1\" class=\"dataframe\">\n",
       "  <thead>\n",
       "    <tr style=\"text-align: right;\">\n",
       "      <th></th>\n",
       "      <th>order_id</th>\n",
       "      <th>user_id</th>\n",
       "      <th>order_number</th>\n",
       "      <th>order_dow</th>\n",
       "      <th>order_hour_of_day</th>\n",
       "      <th>days_since_prior_order</th>\n",
       "    </tr>\n",
       "  </thead>\n",
       "  <tbody>\n",
       "    <tr>\n",
       "      <th>0</th>\n",
       "      <td>1515936</td>\n",
       "      <td>183418</td>\n",
       "      <td>11</td>\n",
       "      <td>6</td>\n",
       "      <td>13</td>\n",
       "      <td>30.0</td>\n",
       "    </tr>\n",
       "    <tr>\n",
       "      <th>1</th>\n",
       "      <td>1690866</td>\n",
       "      <td>163593</td>\n",
       "      <td>5</td>\n",
       "      <td>5</td>\n",
       "      <td>12</td>\n",
       "      <td>9.0</td>\n",
       "    </tr>\n",
       "    <tr>\n",
       "      <th>2</th>\n",
       "      <td>1454967</td>\n",
       "      <td>39980</td>\n",
       "      <td>4</td>\n",
       "      <td>5</td>\n",
       "      <td>19</td>\n",
       "      <td>2.0</td>\n",
       "    </tr>\n",
       "    <tr>\n",
       "      <th>3</th>\n",
       "      <td>1768857</td>\n",
       "      <td>82516</td>\n",
       "      <td>56</td>\n",
       "      <td>0</td>\n",
       "      <td>20</td>\n",
       "      <td>10.0</td>\n",
       "    </tr>\n",
       "    <tr>\n",
       "      <th>4</th>\n",
       "      <td>3007858</td>\n",
       "      <td>196724</td>\n",
       "      <td>2</td>\n",
       "      <td>4</td>\n",
       "      <td>12</td>\n",
       "      <td>17.0</td>\n",
       "    </tr>\n",
       "    <tr>\n",
       "      <th>...</th>\n",
       "      <td>...</td>\n",
       "      <td>...</td>\n",
       "      <td>...</td>\n",
       "      <td>...</td>\n",
       "      <td>...</td>\n",
       "      <td>...</td>\n",
       "    </tr>\n",
       "    <tr>\n",
       "      <th>478947</th>\n",
       "      <td>3210681</td>\n",
       "      <td>5617</td>\n",
       "      <td>5</td>\n",
       "      <td>1</td>\n",
       "      <td>14</td>\n",
       "      <td>7.0</td>\n",
       "    </tr>\n",
       "    <tr>\n",
       "      <th>478948</th>\n",
       "      <td>3270802</td>\n",
       "      <td>112087</td>\n",
       "      <td>2</td>\n",
       "      <td>3</td>\n",
       "      <td>13</td>\n",
       "      <td>6.0</td>\n",
       "    </tr>\n",
       "    <tr>\n",
       "      <th>478949</th>\n",
       "      <td>885349</td>\n",
       "      <td>82944</td>\n",
       "      <td>16</td>\n",
       "      <td>2</td>\n",
       "      <td>11</td>\n",
       "      <td>6.0</td>\n",
       "    </tr>\n",
       "    <tr>\n",
       "      <th>478950</th>\n",
       "      <td>216274</td>\n",
       "      <td>4391</td>\n",
       "      <td>3</td>\n",
       "      <td>3</td>\n",
       "      <td>8</td>\n",
       "      <td>8.0</td>\n",
       "    </tr>\n",
       "    <tr>\n",
       "      <th>478951</th>\n",
       "      <td>2071924</td>\n",
       "      <td>1730</td>\n",
       "      <td>18</td>\n",
       "      <td>1</td>\n",
       "      <td>14</td>\n",
       "      <td>15.0</td>\n",
       "    </tr>\n",
       "  </tbody>\n",
       "</table>\n",
       "<p>478952 rows × 6 columns</p>\n",
       "</div>"
      ],
      "text/plain": [
       "        order_id  user_id  order_number  order_dow  order_hour_of_day  \\\n",
       "0        1515936   183418            11          6                 13   \n",
       "1        1690866   163593             5          5                 12   \n",
       "2        1454967    39980             4          5                 19   \n",
       "3        1768857    82516            56          0                 20   \n",
       "4        3007858   196724             2          4                 12   \n",
       "...          ...      ...           ...        ...                ...   \n",
       "478947   3210681     5617             5          1                 14   \n",
       "478948   3270802   112087             2          3                 13   \n",
       "478949    885349    82944            16          2                 11   \n",
       "478950    216274     4391             3          3                  8   \n",
       "478951   2071924     1730            18          1                 14   \n",
       "\n",
       "        days_since_prior_order  \n",
       "0                         30.0  \n",
       "1                          9.0  \n",
       "2                          2.0  \n",
       "3                         10.0  \n",
       "4                         17.0  \n",
       "...                        ...  \n",
       "478947                     7.0  \n",
       "478948                     6.0  \n",
       "478949                     6.0  \n",
       "478950                     8.0  \n",
       "478951                    15.0  \n",
       "\n",
       "[478952 rows x 6 columns]"
      ]
     },
     "execution_count": 26,
     "metadata": {},
     "output_type": "execute_result"
    }
   ],
   "source": [
    "# Elimina los pedidos duplicados\n",
    "#Eliminamos las filas duplicadas y guardamos el resultado\n",
    "df_instacart_orders.drop_duplicates(inplace=True)\n",
    "\n",
    "#Se actualizan los índices y se eliminan los índices antiguos\n",
    "df_instacart_orders.drop_duplicates().reset_index(drop=True)"
   ]
  },
  {
   "cell_type": "code",
   "execution_count": 27,
   "id": "0b2396a2",
   "metadata": {
    "id": "0b2396a2"
   },
   "outputs": [
    {
     "data": {
      "text/plain": [
       "np.int64(0)"
      ]
     },
     "execution_count": 27,
     "metadata": {},
     "output_type": "execute_result"
    }
   ],
   "source": [
    "# Vuelve a verificar si hay filas duplicadas\n",
    "df_instacart_orders.duplicated().sum()"
   ]
  },
  {
   "cell_type": "code",
   "execution_count": 28,
   "id": "f6113ef1",
   "metadata": {
    "id": "f6113ef1"
   },
   "outputs": [
    {
     "data": {
      "text/plain": [
       "478952"
      ]
     },
     "execution_count": 28,
     "metadata": {},
     "output_type": "execute_result"
    }
   ],
   "source": [
    "# Vuelve a verificar únicamente si hay IDs duplicados de pedidos\n",
    "# usamos el método nunique para ver el número de datos únicos de la columna order_id\n",
    "df_instacart_orders['order_id'].nunique()"
   ]
  },
  {
   "cell_type": "markdown",
   "id": "5e8905ae",
   "metadata": {
    "id": "5e8905ae"
   },
   "source": [
    "Se encontraron 15 valores duplicados que se generaron el día 3 a las 2 hrs, se procedió a eliminar los duplicados y por último se verificó que los datos de la columna \"order_id\" sean únicos, el resultado dió 478952, es el mismo valor del nuevo DF después de eliminar los duplicados (478952 rows)."
   ]
  },
  {
   "cell_type": "markdown",
   "id": "45e6bc46",
   "metadata": {
    "id": "45e6bc46"
   },
   "source": [
    "### `products` data frame"
   ]
  },
  {
   "cell_type": "code",
   "execution_count": 29,
   "id": "5f526b5b-8175-46fa-a0fd-441767d50e64",
   "metadata": {
    "id": "5f526b5b-8175-46fa-a0fd-441767d50e64"
   },
   "outputs": [
    {
     "data": {
      "text/plain": [
       "np.int64(0)"
      ]
     },
     "execution_count": 29,
     "metadata": {},
     "output_type": "execute_result"
    }
   ],
   "source": [
    "# Verifica si hay filas totalmente duplicadas\n",
    "df_products.duplicated().sum()"
   ]
  },
  {
   "cell_type": "code",
   "execution_count": 30,
   "id": "88daa4f4",
   "metadata": {
    "id": "88daa4f4"
   },
   "outputs": [
    {
     "data": {
      "text/plain": [
       "49694"
      ]
     },
     "execution_count": 30,
     "metadata": {},
     "output_type": "execute_result"
    }
   ],
   "source": [
    "# Revisa únicamente si hay ID de productos duplicados\n",
    "\n",
    "# Número de productos 49694\n",
    "df_products['product_id'].nunique()"
   ]
  },
  {
   "cell_type": "code",
   "execution_count": 31,
   "id": "c773f0bf",
   "metadata": {
    "id": "c773f0bf"
   },
   "outputs": [],
   "source": [
    "# Revisa únicamente si hay nombres duplicados de productos (convierte los nombres a letras mayúsculas para compararlos mejor)\n",
    "df_products['product_name'] = df_products['product_name'].str.upper()"
   ]
  },
  {
   "cell_type": "code",
   "execution_count": 32,
   "id": "01efd02e",
   "metadata": {
    "id": "01efd02e"
   },
   "outputs": [
    {
     "data": {
      "application/vnd.microsoft.datawrangler.viewer.v0+json": {
       "columns": [
        {
         "name": "product_name",
         "rawType": "object",
         "type": "string"
        },
        {
         "name": "count",
         "rawType": "int64",
         "type": "integer"
        }
       ],
       "ref": "42fb4cbd-e2c2-4a3d-bb45-693e1d6085da",
       "rows": [
        [
         "GREEN TEA WITH GINSENG AND HONEY",
         "3"
        ],
        [
         "CARROT AND CELERY STICKS",
         "2"
        ],
        [
         "APRICOT ENERGY BAR",
         "2"
        ],
        [
         "TOP THE TATER CHIVE & ONION SOUR CREAM",
         "2"
        ],
        [
         "PROACTIVE HEALTH INDOOR WEIGHT & HAIRBALL CARE WITH CHICKEN CAT FOOD",
         "2"
        ],
        [
         "WILD SARDINES IN SPRING WATER",
         "2"
        ],
        [
         "CHICKEN WITH RICE SOUP",
         "2"
        ],
        [
         "CHUNK LIGHT TUNA IN VEGETABLE OIL",
         "2"
        ],
        [
         "ALBACORE SOLID WHITE TUNA IN WATER",
         "2"
        ],
        [
         "FRESH SCENT DISHWASHER DETERGENT WITH DAWN",
         "2"
        ],
        [
         "18-IN-1 HEMP PEPPERMINT PURE-CASTILE SOAP",
         "2"
        ],
        [
         "AMERICAN CHEESE SLICES",
         "2"
        ],
        [
         "VITAMIN D3 2000 IU",
         "2"
        ],
        [
         "CRUSHED TOMATOES WITH BASIL",
         "2"
        ],
        [
         "CREAM OF TARTAR",
         "2"
        ],
        [
         "PINEAPPLE SLICES IN HEAVY SYRUP",
         "2"
        ],
        [
         "CONCENTRACE TRACE MINERAL DROPS",
         "2"
        ],
        [
         "DULCE DE LECHE CARAMEL ICE CREAM",
         "2"
        ],
        [
         "CHICKEN IN A BISKIT BAKED SNACK CRACKERS",
         "2"
        ],
        [
         "TOMATO JUICE FROM CONCENTRATE",
         "2"
        ],
        [
         "MACARONI AND CHEESE",
         "2"
        ],
        [
         "FAMILY SIZE LASAGNA WITH MEAT & SAUCE",
         "2"
        ],
        [
         "TOMATO AND BASIL PASTA SAUCE",
         "2"
        ],
        [
         "OIL OF OREGANO DIETARY SUPPLEMENT",
         "2"
        ],
        [
         "SOLID WHITE ALBACORE TUNA IN WATER",
         "2"
        ],
        [
         "COOKIES 'N CREAM ICE CREAM",
         "2"
        ],
        [
         "ORGANIC INSTANT OATMEAL LIGHT MAPLE BROWN SUGAR",
         "2"
        ],
        [
         "BURRITO- STEAK & CHEESE",
         "2"
        ],
        [
         "MARASCHINO CHERRIES WITH STEMS",
         "2"
        ],
        [
         "DRINKING WATER",
         "2"
        ],
        [
         "CHIPOTLE PEPPERS IN ADOBO SAUCE",
         "2"
        ],
        [
         "BAG OF ORGANIC LEMONS",
         "2"
        ],
        [
         "CHUNK LIGHT TUNA IN WATER",
         "2"
        ],
        [
         "DARK CHOCOLATE WITH ALMONDS",
         "2"
        ],
        [
         "BLANC DE NOIRS",
         "2"
        ],
        [
         "MUENSTER CHEESE SLICES",
         "2"
        ],
        [
         "SALSA MEDIUM",
         "2"
        ],
        [
         "FLUFFLY VANILLA MARSHMALLOW FROSTING",
         "2"
        ],
        [
         "MOUNTAIN BERRY BLAST SPORTS DRINK",
         "2"
        ],
        [
         "VITAMIN D3 1000 IU",
         "2"
        ],
        [
         "CHILI WITH BEANS",
         "2"
        ],
        [
         "CANDY BAR",
         "2"
        ],
        [
         "DICED PEELED TOMATOES IN TOMATO JUICE",
         "2"
        ],
        [
         "CHOPPED GARLIC IN WATER",
         "2"
        ],
        [
         "PINEAPPLE SLICES IN 100% PINEAPPLE JUICE",
         "2"
        ],
        [
         "HEARTS OF PALM",
         "2"
        ],
        [
         "PREMIUM LUBRICANT CONDOMS ENZ",
         "2"
        ],
        [
         "SOUR CREAM AND ONION POTATO CHIPS",
         "2"
        ],
        [
         "AGED BALSAMIC VINEGAR OF MODENA",
         "2"
        ],
        [
         "VITAMIN D3 5000 IU",
         "2"
        ]
       ],
       "shape": {
        "columns": 1,
        "rows": 48332
       }
      },
      "text/plain": [
       "product_name\n",
       "GREEN TEA WITH GINSENG AND HONEY                                        3\n",
       "CARROT AND CELERY STICKS                                                2\n",
       "APRICOT ENERGY BAR                                                      2\n",
       "TOP THE TATER CHIVE & ONION SOUR CREAM                                  2\n",
       "PROACTIVE HEALTH INDOOR WEIGHT & HAIRBALL CARE WITH CHICKEN CAT FOOD    2\n",
       "                                                                       ..\n",
       "ALL NATURAL CHICKEN APPLE SAUSAGE                                       1\n",
       "QUARTERED ARTICHOKE HEARTS                                              1\n",
       "BIG EYE IPA                                                             1\n",
       "UNSTOPABLES LUSH                                                        1\n",
       "FRESH FOAMING CLEANSER                                                  1\n",
       "Name: count, Length: 48332, dtype: int64"
      ]
     },
     "execution_count": 32,
     "metadata": {},
     "output_type": "execute_result"
    }
   ],
   "source": [
    "# Revisa si hay nombres duplicados de productos no faltantes\n",
    "df_products['product_name'].value_counts()"
   ]
  },
  {
   "cell_type": "code",
   "execution_count": 33,
   "id": "bddca752-d03a-465c-b8b8-63f623d1400f",
   "metadata": {},
   "outputs": [
    {
     "data": {
      "application/vnd.microsoft.datawrangler.viewer.v0+json": {
       "columns": [
        {
         "name": "index",
         "rawType": "int64",
         "type": "integer"
        },
        {
         "name": "product_id",
         "rawType": "int64",
         "type": "integer"
        },
        {
         "name": "product_name",
         "rawType": "object",
         "type": "string"
        },
        {
         "name": "aisle_id",
         "rawType": "int64",
         "type": "integer"
        },
        {
         "name": "department_id",
         "rawType": "int64",
         "type": "integer"
        }
       ],
       "ref": "783363d6-d2fb-42bd-96b2-8d5cfce7713f",
       "rows": [
        [
         "2037",
         "2038",
         "GREEN TEA WITH GINSENG AND HONEY",
         "94",
         "7"
        ],
        [
         "5455",
         "5456",
         "GREEN TEA WITH GINSENG AND HONEY",
         "96",
         "20"
        ],
        [
         "19813",
         "19814",
         "GREEN TEA WITH GINSENG AND HONEY",
         "94",
         "7"
        ]
       ],
       "shape": {
        "columns": 4,
        "rows": 3
       }
      },
      "text/html": [
       "<div>\n",
       "<style scoped>\n",
       "    .dataframe tbody tr th:only-of-type {\n",
       "        vertical-align: middle;\n",
       "    }\n",
       "\n",
       "    .dataframe tbody tr th {\n",
       "        vertical-align: top;\n",
       "    }\n",
       "\n",
       "    .dataframe thead th {\n",
       "        text-align: right;\n",
       "    }\n",
       "</style>\n",
       "<table border=\"1\" class=\"dataframe\">\n",
       "  <thead>\n",
       "    <tr style=\"text-align: right;\">\n",
       "      <th></th>\n",
       "      <th>product_id</th>\n",
       "      <th>product_name</th>\n",
       "      <th>aisle_id</th>\n",
       "      <th>department_id</th>\n",
       "    </tr>\n",
       "  </thead>\n",
       "  <tbody>\n",
       "    <tr>\n",
       "      <th>2037</th>\n",
       "      <td>2038</td>\n",
       "      <td>GREEN TEA WITH GINSENG AND HONEY</td>\n",
       "      <td>94</td>\n",
       "      <td>7</td>\n",
       "    </tr>\n",
       "    <tr>\n",
       "      <th>5455</th>\n",
       "      <td>5456</td>\n",
       "      <td>GREEN TEA WITH GINSENG AND HONEY</td>\n",
       "      <td>96</td>\n",
       "      <td>20</td>\n",
       "    </tr>\n",
       "    <tr>\n",
       "      <th>19813</th>\n",
       "      <td>19814</td>\n",
       "      <td>GREEN TEA WITH GINSENG AND HONEY</td>\n",
       "      <td>94</td>\n",
       "      <td>7</td>\n",
       "    </tr>\n",
       "  </tbody>\n",
       "</table>\n",
       "</div>"
      ],
      "text/plain": [
       "       product_id                      product_name  aisle_id  department_id\n",
       "2037         2038  GREEN TEA WITH GINSENG AND HONEY        94              7\n",
       "5455         5456  GREEN TEA WITH GINSENG AND HONEY        96             20\n",
       "19813       19814  GREEN TEA WITH GINSENG AND HONEY        94              7"
      ]
     },
     "execution_count": 33,
     "metadata": {},
     "output_type": "execute_result"
    }
   ],
   "source": [
    "# Verificamos con un producto que se repite el nombre si los códigos son diferentes\n",
    "df_products[df_products['product_name'] == 'GREEN TEA WITH GINSENG AND HONEY']"
   ]
  },
  {
   "cell_type": "markdown",
   "id": "9da8d293",
   "metadata": {
    "id": "9da8d293"
   },
   "source": [
    "Revisando filas duplicadas no se encontró ninguna, revisando ID's de productos tampoco se encontró duplicados, pero convirtiendo los nombres de los productos a mayúsculas y revisando si existen duplicados, se encontró nombres de productos duplicados, como tienen diferente ID los productos, no se pueden eliminar los duplicados."
   ]
  },
  {
   "cell_type": "markdown",
   "id": "60f30db1",
   "metadata": {
    "id": "60f30db1"
   },
   "source": [
    "### `departments` data frame"
   ]
  },
  {
   "cell_type": "code",
   "execution_count": 34,
   "id": "fb410ad4-0fbf-4b80-bb09-23fdea79afe3",
   "metadata": {
    "id": "fb410ad4-0fbf-4b80-bb09-23fdea79afe3"
   },
   "outputs": [
    {
     "data": {
      "text/plain": [
       "np.int64(0)"
      ]
     },
     "execution_count": 34,
     "metadata": {},
     "output_type": "execute_result"
    }
   ],
   "source": [
    "# Revisa si hay filas totalmente duplicadas\n",
    "df_departments.duplicated().sum()"
   ]
  },
  {
   "cell_type": "code",
   "execution_count": 35,
   "id": "332b12bb",
   "metadata": {
    "id": "332b12bb"
   },
   "outputs": [
    {
     "data": {
      "application/vnd.microsoft.datawrangler.viewer.v0+json": {
       "columns": [
        {
         "name": "department_id",
         "rawType": "int64",
         "type": "integer"
        },
        {
         "name": "count",
         "rawType": "int64",
         "type": "integer"
        }
       ],
       "ref": "63e1baa5-117d-483f-9eb5-b6687156e0b1",
       "rows": [
        [
         "1",
         "1"
        ],
        [
         "12",
         "1"
        ],
        [
         "20",
         "1"
        ],
        [
         "19",
         "1"
        ],
        [
         "18",
         "1"
        ],
        [
         "17",
         "1"
        ],
        [
         "16",
         "1"
        ],
        [
         "15",
         "1"
        ],
        [
         "14",
         "1"
        ],
        [
         "13",
         "1"
        ],
        [
         "11",
         "1"
        ],
        [
         "2",
         "1"
        ],
        [
         "10",
         "1"
        ],
        [
         "9",
         "1"
        ],
        [
         "8",
         "1"
        ],
        [
         "7",
         "1"
        ],
        [
         "6",
         "1"
        ],
        [
         "5",
         "1"
        ],
        [
         "4",
         "1"
        ],
        [
         "3",
         "1"
        ],
        [
         "21",
         "1"
        ]
       ],
       "shape": {
        "columns": 1,
        "rows": 21
       }
      },
      "text/plain": [
       "department_id\n",
       "1     1\n",
       "12    1\n",
       "20    1\n",
       "19    1\n",
       "18    1\n",
       "17    1\n",
       "16    1\n",
       "15    1\n",
       "14    1\n",
       "13    1\n",
       "11    1\n",
       "2     1\n",
       "10    1\n",
       "9     1\n",
       "8     1\n",
       "7     1\n",
       "6     1\n",
       "5     1\n",
       "4     1\n",
       "3     1\n",
       "21    1\n",
       "Name: count, dtype: int64"
      ]
     },
     "execution_count": 35,
     "metadata": {},
     "output_type": "execute_result"
    }
   ],
   "source": [
    "# Revisa únicamente si hay IDs duplicadas de departamentos\n",
    "df_departments['department_id'].value_counts()"
   ]
  },
  {
   "cell_type": "markdown",
   "id": "bd30d78e",
   "metadata": {
    "id": "bd30d78e"
   },
   "source": [
    "Revisamos si existen duplicados en las filas del DF y en la columna 'department_id', dado que debe ser una columna única. No se realizó ninguna corrección dado que no hay duplicados en las filas del DF y en la columna ID."
   ]
  },
  {
   "cell_type": "markdown",
   "id": "889349c1",
   "metadata": {
    "id": "889349c1"
   },
   "source": [
    "### `aisles` data frame"
   ]
  },
  {
   "cell_type": "code",
   "execution_count": 36,
   "id": "9da89fb9-4679-40f5-ad0d-c34df753a3f8",
   "metadata": {
    "id": "9da89fb9-4679-40f5-ad0d-c34df753a3f8"
   },
   "outputs": [
    {
     "data": {
      "text/plain": [
       "np.int64(0)"
      ]
     },
     "execution_count": 36,
     "metadata": {},
     "output_type": "execute_result"
    }
   ],
   "source": [
    "# Revisa si hay filas totalmente duplicadas\n",
    "df_aisles.duplicated().sum()"
   ]
  },
  {
   "cell_type": "code",
   "execution_count": 37,
   "id": "da7c2822",
   "metadata": {
    "id": "da7c2822"
   },
   "outputs": [
    {
     "data": {
      "application/vnd.microsoft.datawrangler.viewer.v0+json": {
       "columns": [
        {
         "name": "aisle_id",
         "rawType": "int64",
         "type": "integer"
        },
        {
         "name": "count",
         "rawType": "int64",
         "type": "integer"
        }
       ],
       "ref": "1fd817a5-2b98-447e-9cc6-3c12841084b4",
       "rows": [
        [
         "1",
         "1"
        ],
        [
         "85",
         "1"
        ],
        [
         "99",
         "1"
        ],
        [
         "98",
         "1"
        ],
        [
         "97",
         "1"
        ],
        [
         "96",
         "1"
        ],
        [
         "95",
         "1"
        ],
        [
         "94",
         "1"
        ],
        [
         "93",
         "1"
        ],
        [
         "92",
         "1"
        ],
        [
         "91",
         "1"
        ],
        [
         "90",
         "1"
        ],
        [
         "89",
         "1"
        ],
        [
         "88",
         "1"
        ],
        [
         "87",
         "1"
        ],
        [
         "86",
         "1"
        ],
        [
         "84",
         "1"
        ],
        [
         "101",
         "1"
        ],
        [
         "83",
         "1"
        ],
        [
         "82",
         "1"
        ],
        [
         "81",
         "1"
        ],
        [
         "80",
         "1"
        ],
        [
         "79",
         "1"
        ],
        [
         "78",
         "1"
        ],
        [
         "77",
         "1"
        ],
        [
         "76",
         "1"
        ],
        [
         "75",
         "1"
        ],
        [
         "74",
         "1"
        ],
        [
         "73",
         "1"
        ],
        [
         "72",
         "1"
        ],
        [
         "71",
         "1"
        ],
        [
         "70",
         "1"
        ],
        [
         "100",
         "1"
        ],
        [
         "102",
         "1"
        ],
        [
         "2",
         "1"
        ],
        [
         "119",
         "1"
        ],
        [
         "133",
         "1"
        ],
        [
         "132",
         "1"
        ],
        [
         "131",
         "1"
        ],
        [
         "130",
         "1"
        ],
        [
         "129",
         "1"
        ],
        [
         "128",
         "1"
        ],
        [
         "127",
         "1"
        ],
        [
         "126",
         "1"
        ],
        [
         "125",
         "1"
        ],
        [
         "124",
         "1"
        ],
        [
         "123",
         "1"
        ],
        [
         "122",
         "1"
        ],
        [
         "121",
         "1"
        ],
        [
         "120",
         "1"
        ]
       ],
       "shape": {
        "columns": 1,
        "rows": 134
       }
      },
      "text/plain": [
       "aisle_id\n",
       "1      1\n",
       "85     1\n",
       "99     1\n",
       "98     1\n",
       "97     1\n",
       "      ..\n",
       "40     1\n",
       "39     1\n",
       "38     1\n",
       "37     1\n",
       "134    1\n",
       "Name: count, Length: 134, dtype: int64"
      ]
     },
     "execution_count": 37,
     "metadata": {},
     "output_type": "execute_result"
    }
   ],
   "source": [
    "# Revisa únicamente si hay IDs duplicadas de pasillos\n",
    "df_aisles['aisle_id'].value_counts()"
   ]
  },
  {
   "cell_type": "markdown",
   "id": "ac63826f",
   "metadata": {
    "id": "ac63826f"
   },
   "source": [
    "Revisamos si existen duplicados en las filas del DF y en la columna 'aisle_id', dado que debe ser una columna única. No se realizó ninguna corrección dado que no hay duplicados en las filas del DF y en la columna ID."
   ]
  },
  {
   "cell_type": "markdown",
   "id": "274cd06a",
   "metadata": {
    "id": "274cd06a"
   },
   "source": [
    "### `order_products` data frame"
   ]
  },
  {
   "cell_type": "code",
   "execution_count": 38,
   "id": "52326689-84a8-4b8f-a881-7c68780f62c9",
   "metadata": {
    "id": "52326689-84a8-4b8f-a881-7c68780f62c9"
   },
   "outputs": [
    {
     "data": {
      "text/plain": [
       "np.int64(0)"
      ]
     },
     "execution_count": 38,
     "metadata": {},
     "output_type": "execute_result"
    }
   ],
   "source": [
    "# Revisa si hay filas totalmente duplicadas\n",
    "df_order_products.duplicated().sum()"
   ]
  },
  {
   "cell_type": "code",
   "execution_count": 39,
   "id": "7b861391",
   "metadata": {
    "id": "7b861391"
   },
   "outputs": [
    {
     "name": "stdout",
     "output_type": "stream",
     "text": [
      "No hay combinaciones de 'order_id' y 'product_id' repetidas\n"
     ]
    }
   ],
   "source": [
    "# Vuelve a verificar si hay cualquier otro duplicado engañoso\n",
    "\n",
    "# Creamos un condicional para verificar si existe convinaciones duplicadas de las\n",
    "# columnas 'order_id' y 'product_id'; ya que en combinación deben ser únicos.\n",
    "if df_order_products[['order_id', 'product_id']].duplicated().any():\n",
    "    print(\"Hay combinaciones de 'order_id' y 'product_id' repetidas\")\n",
    "else:\n",
    "    print(\"No hay combinaciones de 'order_id' y 'product_id' repetidas\")"
   ]
  },
  {
   "cell_type": "code",
   "execution_count": 40,
   "id": "87f1709a-5d3f-4eec-afb9-674fd728c26e",
   "metadata": {},
   "outputs": [
    {
     "data": {
      "application/vnd.microsoft.datawrangler.viewer.v0+json": {
       "columns": [
        {
         "name": "order_id",
         "rawType": "int64",
         "type": "integer"
        },
        {
         "name": "count",
         "rawType": "int64",
         "type": "integer"
        }
       ],
       "ref": "590dfa67-1226-491c-9312-0228e1aef1fc",
       "rows": [
        [
         "61355",
         "127"
        ],
        [
         "3308010",
         "115"
        ],
        [
         "2136777",
         "108"
        ],
        [
         "171934",
         "104"
        ],
        [
         "1959075",
         "98"
        ],
        [
         "1730767",
         "95"
        ],
        [
         "102236",
         "95"
        ],
        [
         "1800005",
         "92"
        ],
        [
         "2926893",
         "92"
        ],
        [
         "1386261",
         "91"
        ],
        [
         "264710",
         "91"
        ],
        [
         "936852",
         "87"
        ],
        [
         "2721963",
         "86"
        ],
        [
         "1717990",
         "86"
        ],
        [
         "3125735",
         "86"
        ],
        [
         "813364",
         "85"
        ],
        [
         "1968313",
         "80"
        ],
        [
         "1832957",
         "78"
        ],
        [
         "1673227",
         "78"
        ],
        [
         "293169",
         "77"
        ],
        [
         "844733",
         "77"
        ],
        [
         "404157",
         "76"
        ],
        [
         "2449164",
         "76"
        ],
        [
         "1183255",
         "75"
        ],
        [
         "2849370",
         "75"
        ],
        [
         "871281",
         "74"
        ],
        [
         "903110",
         "74"
        ],
        [
         "1888628",
         "74"
        ],
        [
         "2479011",
         "73"
        ],
        [
         "1961723",
         "73"
        ],
        [
         "1021563",
         "73"
        ],
        [
         "2094761",
         "73"
        ],
        [
         "1220886",
         "72"
        ],
        [
         "2470674",
         "71"
        ],
        [
         "2256933",
         "71"
        ],
        [
         "3347453",
         "71"
        ],
        [
         "1648217",
         "70"
        ],
        [
         "165801",
         "70"
        ],
        [
         "678116",
         "70"
        ],
        [
         "1038146",
         "70"
        ],
        [
         "388234",
         "70"
        ],
        [
         "2999801",
         "70"
        ],
        [
         "1169835",
         "69"
        ],
        [
         "2409109",
         "69"
        ],
        [
         "129627",
         "69"
        ],
        [
         "733526",
         "69"
        ],
        [
         "1564093",
         "69"
        ],
        [
         "3383594",
         "69"
        ],
        [
         "1477139",
         "68"
        ],
        [
         "2997021",
         "68"
        ]
       ],
       "shape": {
        "columns": 1,
        "rows": 450046
       }
      },
      "text/plain": [
       "order_id\n",
       "61355      127\n",
       "3308010    115\n",
       "2136777    108\n",
       "171934     104\n",
       "1959075     98\n",
       "          ... \n",
       "3076918      1\n",
       "2499566      1\n",
       "556604       1\n",
       "171279       1\n",
       "1461911      1\n",
       "Name: count, Length: 450046, dtype: int64"
      ]
     },
     "execution_count": 40,
     "metadata": {},
     "output_type": "execute_result"
    }
   ],
   "source": [
    "df_order_products['order_id'].value_counts()"
   ]
  },
  {
   "cell_type": "markdown",
   "id": "0b890492",
   "metadata": {
    "id": "0b890492"
   },
   "source": [
    "Revisamos si existen duplicados en las filas del DF y en la combinación de columnas 'order_id', 'product_id', dado que en combinación deben ser valores únicos. No se realizó ninguna corrección dado que no hay duplicados en las filas del DF y en la combinación de columnas 'order_id' y 'product_id'.\n",
    "Las columnas por independiente de 'order_id' y 'product_id', se pueden duplicar dado que son heredadas de otras tablas (DF); en este DF 'df_order_products' se almacena el histórico de artículos pedidos dentro de un pedido."
   ]
  },
  {
   "cell_type": "markdown",
   "id": "1e46de76",
   "metadata": {
    "id": "1e46de76"
   },
   "source": [
    "## Encuentra y elimina los valores ausentes\n",
    "\n",
    "Al trabajar con valores duplicados, pudimos observar que también nos falta investigar valores ausentes:\n",
    "\n",
    "* La columna `'product_name'` de la tabla products.\n",
    "* La columna `'days_since_prior_order'` de la tabla orders.\n",
    "* La columna `'add_to_cart_order'` de la tabla order_productos."
   ]
  },
  {
   "cell_type": "markdown",
   "id": "c0aebd78",
   "metadata": {
    "id": "c0aebd78"
   },
   "source": [
    "### `products` data frame"
   ]
  },
  {
   "cell_type": "code",
   "execution_count": 41,
   "id": "fe4a8b0f",
   "metadata": {
    "id": "fe4a8b0f"
   },
   "outputs": [
    {
     "data": {
      "text/plain": [
       "np.int64(1258)"
      ]
     },
     "execution_count": 41,
     "metadata": {},
     "output_type": "execute_result"
    }
   ],
   "source": [
    "# Encuentra los valores ausentes en la columna 'product_name'\n",
    "df_products['product_name'].isna().sum()"
   ]
  },
  {
   "cell_type": "markdown",
   "id": "-A6x1AbJhjkp",
   "metadata": {
    "id": "-A6x1AbJhjkp"
   },
   "source": [
    "Se tiene 1258 valores ausentes en la columna 'product_name'"
   ]
  },
  {
   "cell_type": "code",
   "execution_count": 42,
   "id": "e96167bc",
   "metadata": {
    "id": "e96167bc"
   },
   "outputs": [
    {
     "data": {
      "application/vnd.microsoft.datawrangler.viewer.v0+json": {
       "columns": [
        {
         "name": "aisle_id",
         "rawType": "int64",
         "type": "integer"
        },
        {
         "name": "count",
         "rawType": "int64",
         "type": "integer"
        }
       ],
       "ref": "bee0cb1e-807c-405f-a3d1-03096fb06bfd",
       "rows": [
        [
         "100",
         "1258"
        ]
       ],
       "shape": {
        "columns": 1,
        "rows": 1
       }
      },
      "text/plain": [
       "aisle_id\n",
       "100    1258\n",
       "Name: count, dtype: int64"
      ]
     },
     "execution_count": 42,
     "metadata": {},
     "output_type": "execute_result"
    }
   ],
   "source": [
    "#  ¿Todos los nombres de productos ausentes están relacionados con el pasillo con ID 100?\n",
    "\n",
    "# buscamos el valor de 'aisle_id' donde la columna 'product_name' es NaN\n",
    "# luego obtenemos un resumen y cuenta de todos los valores con 'value_counts()'\n",
    "df_products[df_products['product_name'].isna()]['aisle_id'].value_counts()"
   ]
  },
  {
   "cell_type": "markdown",
   "id": "WRpIfXRphpSL",
   "metadata": {
    "id": "WRpIfXRphpSL"
   },
   "source": [
    "Encontramos 1258 valores ausentes en la columna 'product_name', de los cuales todos pertenecen al pasillo con ID 100."
   ]
  },
  {
   "cell_type": "code",
   "execution_count": 43,
   "id": "8fd0a541",
   "metadata": {
    "id": "8fd0a541"
   },
   "outputs": [
    {
     "data": {
      "application/vnd.microsoft.datawrangler.viewer.v0+json": {
       "columns": [
        {
         "name": "department_id",
         "rawType": "int64",
         "type": "integer"
        },
        {
         "name": "count",
         "rawType": "int64",
         "type": "integer"
        }
       ],
       "ref": "4a53dfd9-bd89-4ca3-89fe-ca9035395caa",
       "rows": [
        [
         "21",
         "1258"
        ]
       ],
       "shape": {
        "columns": 1,
        "rows": 1
       }
      },
      "text/plain": [
       "department_id\n",
       "21    1258\n",
       "Name: count, dtype: int64"
      ]
     },
     "execution_count": 43,
     "metadata": {},
     "output_type": "execute_result"
    }
   ],
   "source": [
    "# ¿Todos los nombres de productos ausentes están relacionados con el departamento con ID 21?\n",
    "# buscamos el valor de 'department_id' donde la columna 'product_name' es NaN\n",
    "# luego obtenemos un resumen y cuenta de todos los valores con 'value_counts()'\n",
    "\n",
    "df_products[df_products['product_name'].isna()]['department_id'].value_counts()"
   ]
  },
  {
   "cell_type": "markdown",
   "id": "qDpdYn1Fht_I",
   "metadata": {
    "id": "qDpdYn1Fht_I"
   },
   "source": [
    "Encontramos 1258 valores ausentes en la columna 'product_name', de los cuales todos pertenecen al departamento con ID 21."
   ]
  },
  {
   "cell_type": "code",
   "execution_count": 44,
   "id": "325c3464",
   "metadata": {
    "id": "325c3464"
   },
   "outputs": [
    {
     "data": {
      "application/vnd.microsoft.datawrangler.viewer.v0+json": {
       "columns": [
        {
         "name": "index",
         "rawType": "int64",
         "type": "integer"
        },
        {
         "name": "department_id",
         "rawType": "int64",
         "type": "integer"
        },
        {
         "name": "department",
         "rawType": "object",
         "type": "string"
        }
       ],
       "ref": "bef9b47d-5d50-41f0-8b7b-6dadc9f8348b",
       "rows": [
        [
         "20",
         "21",
         "missing"
        ]
       ],
       "shape": {
        "columns": 2,
        "rows": 1
       }
      },
      "text/html": [
       "<div>\n",
       "<style scoped>\n",
       "    .dataframe tbody tr th:only-of-type {\n",
       "        vertical-align: middle;\n",
       "    }\n",
       "\n",
       "    .dataframe tbody tr th {\n",
       "        vertical-align: top;\n",
       "    }\n",
       "\n",
       "    .dataframe thead th {\n",
       "        text-align: right;\n",
       "    }\n",
       "</style>\n",
       "<table border=\"1\" class=\"dataframe\">\n",
       "  <thead>\n",
       "    <tr style=\"text-align: right;\">\n",
       "      <th></th>\n",
       "      <th>department_id</th>\n",
       "      <th>department</th>\n",
       "    </tr>\n",
       "  </thead>\n",
       "  <tbody>\n",
       "    <tr>\n",
       "      <th>20</th>\n",
       "      <td>21</td>\n",
       "      <td>missing</td>\n",
       "    </tr>\n",
       "  </tbody>\n",
       "</table>\n",
       "</div>"
      ],
      "text/plain": [
       "    department_id department\n",
       "20             21    missing"
      ]
     },
     "execution_count": 44,
     "metadata": {},
     "output_type": "execute_result"
    }
   ],
   "source": [
    "# Usa las tablas department y aisle para revisar los datos del pasillo con ID 100 y el departamento con ID 21.\n",
    "# Verificamos los datos del departamento con ID 21\n",
    "df_departments[df_departments['department_id'] == 21]"
   ]
  },
  {
   "cell_type": "code",
   "execution_count": 45,
   "id": "ea9734be-9357-4a16-ac26-c32630966ec8",
   "metadata": {},
   "outputs": [
    {
     "data": {
      "application/vnd.microsoft.datawrangler.viewer.v0+json": {
       "columns": [
        {
         "name": "index",
         "rawType": "int64",
         "type": "integer"
        },
        {
         "name": "aisle_id",
         "rawType": "int64",
         "type": "integer"
        },
        {
         "name": "aisle",
         "rawType": "object",
         "type": "string"
        }
       ],
       "ref": "702bf6f1-b063-44f0-9347-970ec1b13b89",
       "rows": [
        [
         "99",
         "100",
         "missing"
        ]
       ],
       "shape": {
        "columns": 2,
        "rows": 1
       }
      },
      "text/html": [
       "<div>\n",
       "<style scoped>\n",
       "    .dataframe tbody tr th:only-of-type {\n",
       "        vertical-align: middle;\n",
       "    }\n",
       "\n",
       "    .dataframe tbody tr th {\n",
       "        vertical-align: top;\n",
       "    }\n",
       "\n",
       "    .dataframe thead th {\n",
       "        text-align: right;\n",
       "    }\n",
       "</style>\n",
       "<table border=\"1\" class=\"dataframe\">\n",
       "  <thead>\n",
       "    <tr style=\"text-align: right;\">\n",
       "      <th></th>\n",
       "      <th>aisle_id</th>\n",
       "      <th>aisle</th>\n",
       "    </tr>\n",
       "  </thead>\n",
       "  <tbody>\n",
       "    <tr>\n",
       "      <th>99</th>\n",
       "      <td>100</td>\n",
       "      <td>missing</td>\n",
       "    </tr>\n",
       "  </tbody>\n",
       "</table>\n",
       "</div>"
      ],
      "text/plain": [
       "    aisle_id    aisle\n",
       "99       100  missing"
      ]
     },
     "execution_count": 45,
     "metadata": {},
     "output_type": "execute_result"
    }
   ],
   "source": [
    "# Verificamos los datos del pasillo con ID 100\n",
    "df_aisles[df_aisles['aisle_id'] == 100]"
   ]
  },
  {
   "cell_type": "markdown",
   "id": "nqhSTUPhhvEJ",
   "metadata": {
    "id": "nqhSTUPhhvEJ"
   },
   "source": [
    "Tanto para el pasillo con ID 100 y departamento con ID 21 el nombre es 'missing', quiere decir desaparecido, por lo cual los valores de los nombres de los productos son ausentes."
   ]
  },
  {
   "cell_type": "code",
   "execution_count": 46,
   "id": "6b295120",
   "metadata": {
    "id": "6b295120"
   },
   "outputs": [
    {
     "name": "stderr",
     "output_type": "stream",
     "text": [
      "/var/folders/05/s3zd8b1n5qsd1bpkp2xg179w0000gn/T/ipykernel_3335/4192442338.py:3: FutureWarning: A value is trying to be set on a copy of a DataFrame or Series through chained assignment using an inplace method.\n",
      "The behavior will change in pandas 3.0. This inplace method will never work because the intermediate object on which we are setting values always behaves as a copy.\n",
      "\n",
      "For example, when doing 'df[col].method(value, inplace=True)', try using 'df.method({col: value}, inplace=True)' or df[col] = df[col].method(value) instead, to perform the operation inplace on the original object.\n",
      "\n",
      "\n",
      "  df_products['product_name'].fillna('Unknown', inplace = True)\n"
     ]
    },
    {
     "data": {
      "text/plain": [
       "np.int64(0)"
      ]
     },
     "execution_count": 46,
     "metadata": {},
     "output_type": "execute_result"
    }
   ],
   "source": [
    "# Completa los nombres de productos ausentes con 'Unknown'\n",
    "# Reemplazamos los valores ausentes por 'Unknown'\n",
    "df_products['product_name'].fillna('Unknown', inplace = True)\n",
    "\n",
    "# Verificamos nuevamente si existen valores ausentes\n",
    "df_products['product_name'].isna().sum()"
   ]
  },
  {
   "cell_type": "markdown",
   "id": "fc70e5ad",
   "metadata": {
    "id": "fc70e5ad"
   },
   "source": [
    "Remplazamos valores ausentes de la columna 'product_name' por el valor 'Unknown'"
   ]
  },
  {
   "cell_type": "markdown",
   "id": "7eb45c86",
   "metadata": {
    "id": "7eb45c86"
   },
   "source": [
    "### `orders` data frame"
   ]
  },
  {
   "cell_type": "code",
   "execution_count": 47,
   "id": "93e41d96",
   "metadata": {
    "id": "93e41d96"
   },
   "outputs": [
    {
     "data": {
      "text/plain": [
       "np.int64(28817)"
      ]
     },
     "execution_count": 47,
     "metadata": {},
     "output_type": "execute_result"
    }
   ],
   "source": [
    "# Encuentra los valores ausentes\n",
    "df_instacart_orders['days_since_prior_order'].isna().sum()"
   ]
  },
  {
   "cell_type": "code",
   "execution_count": 48,
   "id": "166e5a86",
   "metadata": {
    "id": "166e5a86"
   },
   "outputs": [
    {
     "data": {
      "text/plain": [
       "9589"
      ]
     },
     "execution_count": 48,
     "metadata": {},
     "output_type": "execute_result"
    }
   ],
   "source": [
    "# ¿Hay algún valor ausente que no sea el primer pedido del cliente?\n",
    "# Asumiendo de que un cliente tiene en 0 la columna 'days_since_prior_order' cuando es su primer pedido\n",
    "len(df_instacart_orders[df_instacart_orders['days_since_prior_order']==0])"
   ]
  },
  {
   "cell_type": "markdown",
   "id": "4e23d089",
   "metadata": {
    "id": "4e23d089"
   },
   "source": [
    "Si asumimos que un cliente tiene la columna 'days_since_prior_order' en 0, entonces tenemos 28817 valores ausentes."
   ]
  },
  {
   "cell_type": "markdown",
   "id": "69dc9ca4",
   "metadata": {
    "id": "69dc9ca4"
   },
   "source": [
    "### `order_products` data frame"
   ]
  },
  {
   "cell_type": "code",
   "execution_count": 49,
   "id": "b8240253",
   "metadata": {
    "id": "b8240253"
   },
   "outputs": [
    {
     "data": {
      "application/vnd.microsoft.datawrangler.viewer.v0+json": {
       "columns": [
        {
         "name": "index",
         "rawType": "object",
         "type": "string"
        },
        {
         "name": "0",
         "rawType": "int64",
         "type": "integer"
        }
       ],
       "ref": "19687ac9-9ee6-40f9-8c57-34651912807d",
       "rows": [
        [
         "order_id",
         "0"
        ],
        [
         "product_id",
         "0"
        ],
        [
         "add_to_cart_order",
         "836"
        ],
        [
         "reordered",
         "0"
        ]
       ],
       "shape": {
        "columns": 1,
        "rows": 4
       }
      },
      "text/plain": [
       "order_id               0\n",
       "product_id             0\n",
       "add_to_cart_order    836\n",
       "reordered              0\n",
       "dtype: int64"
      ]
     },
     "execution_count": 49,
     "metadata": {},
     "output_type": "execute_result"
    }
   ],
   "source": [
    "# Encuentra los valores ausentes\n",
    "df_order_products.isna().sum()"
   ]
  },
  {
   "cell_type": "code",
   "execution_count": 50,
   "id": "9a78e5ee",
   "metadata": {
    "id": "9a78e5ee"
   },
   "outputs": [
    {
     "name": "stdout",
     "output_type": "stream",
     "text": [
      "Valor mínimo: 1.0 y valor máximo: 64.0\n"
     ]
    }
   ],
   "source": [
    "# ¿Cuáles son los valores mínimos y máximos en esta columna?\n",
    "val_max = df_order_products['add_to_cart_order'].max()\n",
    "val_min = df_order_products['add_to_cart_order'].min()\n",
    "print(f'Valor mínimo: {val_min} y valor máximo: {val_max}')"
   ]
  },
  {
   "cell_type": "markdown",
   "id": "-Z2Ja215jW78",
   "metadata": {
    "id": "-Z2Ja215jW78"
   },
   "source": [
    "Se tiene 836 valores ausentes en la columna 'add_to_cart_order' y se tiene como valor mínimo: 1.0 y valor máximo: 64.0"
   ]
  },
  {
   "cell_type": "code",
   "execution_count": 51,
   "id": "ab9d0c2b",
   "metadata": {
    "id": "ab9d0c2b"
   },
   "outputs": [
    {
     "name": "stdout",
     "output_type": "stream",
     "text": [
      "         order_id  product_id  add_to_cart_order  reordered\n",
      "737       2449164        5068                NaN          0\n",
      "9926      1968313       43867                NaN          0\n",
      "14394     2926893       11688                NaN          0\n",
      "16418     1717990        4142                NaN          0\n",
      "30114     1959075       42828                NaN          1\n",
      "...           ...         ...                ...        ...\n",
      "4505662   1800005        7411                NaN          0\n",
      "4511400   1633337         260                NaN          0\n",
      "4517562    404157        9517                NaN          0\n",
      "4534112   1673227       17835                NaN          0\n",
      "4535739   1832957       17949                NaN          1\n",
      "\n",
      "[836 rows x 4 columns]\n"
     ]
    }
   ],
   "source": [
    "# Guarda todas las IDs de pedidos que tengan un valor ausente en 'add_to_cart_order'\n",
    "ids_pedidos = df_order_products[df_order_products['add_to_cart_order'].isna()]\n",
    "print(ids_pedidos)"
   ]
  },
  {
   "cell_type": "code",
   "execution_count": 52,
   "id": "54c31695",
   "metadata": {
    "id": "54c31695"
   },
   "outputs": [
    {
     "name": "stdout",
     "output_type": "stream",
     "text": [
      "El número mínimo de productos de un pedido es: 65, y máximo es: 127\n"
     ]
    }
   ],
   "source": [
    "# ¿Todos los pedidos con valores ausentes tienen más de 64 productos?\n",
    "# Agrupa todos los pedidos con datos ausentes por su ID de pedido.\n",
    "# Cuenta el número de 'product_id' en cada pedido y revisa el valor mínimo del conteo.\n",
    "valor_min = df_order_products[df_order_products['order_id'].isin(ids_pedidos['order_id'])].groupby('order_id')['product_id'].count().min()\n",
    "valor_max = df_order_products[df_order_products['order_id'].isin(ids_pedidos['order_id'])].groupby('order_id')['product_id'].count().max()\n",
    "print(f'El número mínimo de productos de un pedido es: {valor_min}, y máximo es: {valor_max}')"
   ]
  },
  {
   "cell_type": "markdown",
   "id": "p9V6pddtjglj",
   "metadata": {
    "id": "p9V6pddtjglj"
   },
   "source": [
    "Se tiene que un pedido tiene como máximo 63 productos asociados y como mínimo 1 producto asociado a un pedido."
   ]
  },
  {
   "cell_type": "code",
   "execution_count": 53,
   "id": "d384dde0-b1e5-4a0b-a137-4740917f27aa",
   "metadata": {},
   "outputs": [
    {
     "data": {
      "text/plain": [
       "65"
      ]
     },
     "execution_count": 53,
     "metadata": {},
     "output_type": "execute_result"
    }
   ],
   "source": [
    "# Código del revisor\n",
    "df_order_products[df_order_products['order_id'].isin(ids_pedidos['order_id'])].groupby('order_id')['product_id'].count().min()"
   ]
  },
  {
   "cell_type": "code",
   "execution_count": 54,
   "id": "7a987d08",
   "metadata": {
    "id": "7a987d08"
   },
   "outputs": [
    {
     "data": {
      "text/plain": [
       "True"
      ]
     },
     "execution_count": 54,
     "metadata": {},
     "output_type": "execute_result"
    }
   ],
   "source": [
    "# Remplaza los valores ausentes en la columna 'add_to_cart? con 999 y convierte la columna al tipo entero.\n",
    "# Reemplazamos los valores ausentes por el valor 999 y guardamos el cambio\n",
    "df_order_products['add_to_cart_order'] = df_order_products['add_to_cart_order'].fillna(999)\n",
    "\n",
    "# Verificamos si al convertir la columna 'add_to_cart_order' a 'int' no se pierda ningun valor\n",
    "np.array_equal(df_order_products['add_to_cart_order'], \n",
    "               df_order_products['add_to_cart_order'].astype('int'))"
   ]
  },
  {
   "cell_type": "code",
   "execution_count": 55,
   "id": "b24c2015-c6d7-4ec6-93af-20fe0202686c",
   "metadata": {},
   "outputs": [],
   "source": [
    "# Convertimos la columna 'add_to_cart_order' en entero ya que pasó la validación de igualdad (True)\n",
    "df_order_products['add_to_cart_order'] = df_order_products['add_to_cart_order'].astype('int')"
   ]
  },
  {
   "cell_type": "markdown",
   "id": "fea4bcc7",
   "metadata": {
    "id": "fea4bcc7"
   },
   "source": [
    "Reemplazamos los valores ausentes con el valor 999, luego verificamos si era seguro convertir la columna que contenía los nulos a tipo de dato entero; la respuesta retornó un True, lo que significa que no se perdería datos en la conversión a entero los valores de la columna 'add_to_cart_order', finalmente se precedió a convertir a entero los datos."
   ]
  },
  {
   "cell_type": "markdown",
   "id": "RnplPFY1gSrb",
   "metadata": {
    "id": "RnplPFY1gSrb"
   },
   "source": [
    "## Conclusiones\n",
    "\n",
    "Durante el preprocesamiento de los datos, se identificaron y eliminaron filas duplicadas en el DataFrame `df_instacart_orders`, asegurando que cada pedido sea único. En el DataFrame `df_products`, aunque no se encontraron filas ni IDs duplicados, sí se detectaron nombres de productos repetidos, pero estos corresponden a diferentes IDs, por lo que no se eliminaron. Los DataFrames `df_departments` y `df_aisles` no presentaron duplicados.\n",
    "\n",
    "Respecto a los valores ausentes, en `df_products` se encontraron 1258 valores nulos en la columna `product_name`, todos asociados al pasillo y departamento con nombre 'missing', por lo que se reemplazaron por 'Unknown'. En `df_instacart_orders`, los valores ausentes en `days_since_prior_order` corresponden al primer pedido de cada cliente, lo cual es esperado. En `df_order_products`, los valores ausentes en `add_to_cart_order` se reemplazaron por 999 y la columna se convirtió a tipo entero, ya que estos casos representan situaciones atípicas.\n",
    "\n",
    "En resumen, se limpiaron los datos eliminando duplicados y gestionando los valores ausentes de manera adecuada, dejando los DataFrames listos para el análisis exploratorio.\n"
   ]
  },
  {
   "cell_type": "markdown",
   "id": "UjrOIwTcz3ri",
   "metadata": {
    "id": "UjrOIwTcz3ri"
   },
   "source": [
    "# Paso 3. Análisis de los datos\n",
    "\n",
    "Una vez los datos estén procesados y listos, haz el siguiente análisis:"
   ]
  },
  {
   "cell_type": "markdown",
   "id": "turkish-kidney",
   "metadata": {
    "id": "turkish-kidney"
   },
   "source": [
    "# [A] Fácil (deben completarse todos para aprobar)\n",
    "\n",
    "1. Verifica que los valores en las columnas `'order_hour_of_day'` y `'order_dow'` en la tabla orders sean razonables (es decir, `'order_hour_of_day'` oscile entre 0 y 23 y `'order_dow'` oscile entre 0 y 6).\n",
    "2. Crea un gráfico que muestre el número de personas que hacen pedidos dependiendo de la hora del día.\n",
    "3. Crea un gráfico que muestre qué día de la semana la gente hace sus compras.\n",
    "4. Crea un gráfico que muestre el tiempo que la gente espera hasta hacer su siguiente pedido, y comenta sobre los valores mínimos y máximos."
   ]
  },
  {
   "cell_type": "markdown",
   "id": "short-capability",
   "metadata": {
    "id": "short-capability"
   },
   "source": [
    "### [A1] Verifica que los valores sean sensibles"
   ]
  },
  {
   "cell_type": "code",
   "execution_count": 56,
   "id": "growing-fruit",
   "metadata": {
    "id": "growing-fruit"
   },
   "outputs": [
    {
     "data": {
      "application/vnd.microsoft.datawrangler.viewer.v0+json": {
       "columns": [
        {
         "name": "order_hour_of_day",
         "rawType": "int64",
         "type": "integer"
        },
        {
         "name": "count",
         "rawType": "int64",
         "type": "integer"
        }
       ],
       "ref": "efce71e1-a10f-4342-8b51-59991a0f967b",
       "rows": [
        [
         "0",
         "3180"
        ],
        [
         "1",
         "1763"
        ],
        [
         "2",
         "989"
        ],
        [
         "3",
         "770"
        ],
        [
         "4",
         "765"
        ],
        [
         "5",
         "1371"
        ],
        [
         "6",
         "4215"
        ],
        [
         "7",
         "13043"
        ],
        [
         "8",
         "25024"
        ],
        [
         "9",
         "35896"
        ],
        [
         "10",
         "40578"
        ],
        [
         "11",
         "40032"
        ],
        [
         "12",
         "38034"
        ],
        [
         "13",
         "39007"
        ],
        [
         "14",
         "39631"
        ],
        [
         "15",
         "39789"
        ],
        [
         "16",
         "38112"
        ],
        [
         "17",
         "31930"
        ],
        [
         "18",
         "25510"
        ],
        [
         "19",
         "19547"
        ],
        [
         "20",
         "14624"
        ],
        [
         "21",
         "11019"
        ],
        [
         "22",
         "8512"
        ],
        [
         "23",
         "5611"
        ]
       ],
       "shape": {
        "columns": 1,
        "rows": 24
       }
      },
      "text/plain": [
       "order_hour_of_day\n",
       "0      3180\n",
       "1      1763\n",
       "2       989\n",
       "3       770\n",
       "4       765\n",
       "5      1371\n",
       "6      4215\n",
       "7     13043\n",
       "8     25024\n",
       "9     35896\n",
       "10    40578\n",
       "11    40032\n",
       "12    38034\n",
       "13    39007\n",
       "14    39631\n",
       "15    39789\n",
       "16    38112\n",
       "17    31930\n",
       "18    25510\n",
       "19    19547\n",
       "20    14624\n",
       "21    11019\n",
       "22     8512\n",
       "23     5611\n",
       "Name: count, dtype: int64"
      ]
     },
     "execution_count": 56,
     "metadata": {},
     "output_type": "execute_result"
    }
   ],
   "source": [
    "#Verificamos que 'order_hour_of_day' oscile entre 0 y 23\n",
    "df_instacart_orders['order_hour_of_day'].value_counts().sort_index()"
   ]
  },
  {
   "cell_type": "code",
   "execution_count": 57,
   "id": "accessory-malaysia",
   "metadata": {
    "id": "accessory-malaysia"
   },
   "outputs": [
    {
     "data": {
      "application/vnd.microsoft.datawrangler.viewer.v0+json": {
       "columns": [
        {
         "name": "order_dow",
         "rawType": "int64",
         "type": "integer"
        },
        {
         "name": "count",
         "rawType": "int64",
         "type": "integer"
        }
       ],
       "ref": "96a81440-b6b8-4948-8f52-0891dba0b1dc",
       "rows": [
        [
         "0",
         "84090"
        ],
        [
         "1",
         "82185"
        ],
        [
         "2",
         "65833"
        ],
        [
         "3",
         "60897"
        ],
        [
         "4",
         "59810"
        ],
        [
         "5",
         "63488"
        ],
        [
         "6",
         "62649"
        ]
       ],
       "shape": {
        "columns": 1,
        "rows": 7
       }
      },
      "text/plain": [
       "order_dow\n",
       "0    84090\n",
       "1    82185\n",
       "2    65833\n",
       "3    60897\n",
       "4    59810\n",
       "5    63488\n",
       "6    62649\n",
       "Name: count, dtype: int64"
      ]
     },
     "execution_count": 57,
     "metadata": {},
     "output_type": "execute_result"
    }
   ],
   "source": [
    "#Verificamos que 'order_dow' oscile entre 0 y 6\n",
    "df_instacart_orders['order_dow'].value_counts().sort_index()"
   ]
  },
  {
   "cell_type": "markdown",
   "id": "hmR2GNQ6lCsX",
   "metadata": {
    "id": "hmR2GNQ6lCsX"
   },
   "source": [
    "En la verificación de las columnas `'order_hour_of_day'` y `'order_dow'` del DataFrame `df_instacart_orders`, se observa que los valores de `'order_hour_of_day'` están comprendidos entre 0 y 23, representando correctamente las horas del día. Asimismo, los valores de `'order_dow'` oscilan entre 0 y 6, lo que corresponde a los días de la semana de domingo a sábado."
   ]
  },
  {
   "cell_type": "markdown",
   "id": "a6743a70",
   "metadata": {
    "id": "a6743a70"
   },
   "source": [
    "### [A2] Para cada hora del día, ¿cuántas personas hacen órdenes?"
   ]
  },
  {
   "cell_type": "code",
   "execution_count": 58,
   "id": "a36cca27",
   "metadata": {
    "id": "a36cca27"
   },
   "outputs": [
    {
     "data": {
      "image/png": "[encoded data removed]",
      "text/plain": [
       "<Figure size 1000x500 with 1 Axes>"
      ]
     },
     "metadata": {},
     "output_type": "display_data"
    }
   ],
   "source": [
    "#Obtenemos la catidad de pedidos por hora, ordenamos las horas y gráficamos\n",
    "df_instacart_orders['order_hour_of_day'].value_counts().sort_index().plot(kind='bar',\n",
    "                                                                          xlabel='Hora / 24hrs', \n",
    "                                                                          ylabel='Cantidad órdenes',\n",
    "                                                                          title='Cantidad de órdenes por hora del día',\n",
    "                                                                          grid=True,\n",
    "                                                                          figsize=(10, 5),\n",
    "                                                                          rot=0)\n",
    "plt.show()"
   ]
  },
  {
   "cell_type": "markdown",
   "id": "11270eed",
   "metadata": {
    "id": "11270eed"
   },
   "source": [
    "El gráfico muestra que la mayor cantidad de órdenes se realiza entre las 9hrs y las 17hrs, alcanzando su punto máximo a las 10 de la mañana. Esto indica que la mayoría de las personas prefieren hacer sus compras durante el día, especialmente en horas laborales o justo antes del almuerzo. Por lo contrario, durante la madrugada y la noche (de 0hrs a 7hrs y después de las 20hrs), la cantidad de órdenes disminuye considerablemente, lo que sugiere que son horarios poco habituales para realizar pedidos."
   ]
  },
  {
   "cell_type": "markdown",
   "id": "documented-command",
   "metadata": {
    "id": "documented-command"
   },
   "source": [
    "### [A3] ¿Qué día de la semana compran víveres las personas?"
   ]
  },
  {
   "cell_type": "code",
   "execution_count": 59,
   "id": "chief-digit",
   "metadata": {
    "id": "chief-digit"
   },
   "outputs": [
    {
     "data": {
      "image/png": "[encoded data removed]",
      "text/plain": [
       "<Figure size 1000x500 with 1 Axes>"
      ]
     },
     "metadata": {},
     "output_type": "display_data"
    }
   ],
   "source": [
    "#Obtenemos la catidad de pedidos por día de la semana, donde 0 es Domingo, ordenamos por días y gráficamos\n",
    "df_instacart_orders['order_dow'].value_counts().sort_index().plot(kind='bar',\n",
    "                                                                  xlabel='Días de semana (Dom - Sab)', \n",
    "                                                                  ylabel='Cantidad órdenes',\n",
    "                                                                  title='Cantidad de órdenes por día de la semana',\n",
    "                                                                  grid=True,\n",
    "                                                                  figsize=(10, 5),\n",
    "                                                                  rot=0)\n",
    "plt.show()"
   ]
  },
  {
   "cell_type": "markdown",
   "id": "dominant-lightning",
   "metadata": {
    "id": "dominant-lightning"
   },
   "source": [
    "El gráfico muestra que la mayor cantidad de pedidos se realiza durante los días domingo (0) y el lunes (1). Se observa un ligero descenso en la cantidad de órdenes en el resto de días de la semana, particularmente los miércoles y jueves. Esto sugiere que las personas tienden a hacer sus compras principalmente a inicios de la semana."
   ]
  },
  {
   "cell_type": "markdown",
   "id": "cutting-concert",
   "metadata": {
    "id": "cutting-concert"
   },
   "source": [
    "### [A4] ¿Cuánto tiempo esperan las personas hasta hacer otro pedido? Comenta sobre los valores mínimos y máximos."
   ]
  },
  {
   "cell_type": "code",
   "execution_count": 60,
   "id": "c231f523",
   "metadata": {
    "id": "c231f523"
   },
   "outputs": [
    {
     "data": {
      "image/png": "[encoded data removed]",
      "text/plain": [
       "<Figure size 1000x600 with 1 Axes>"
      ]
     },
     "metadata": {},
     "output_type": "display_data"
    }
   ],
   "source": [
    "df_instacart_orders['days_since_prior_order'].value_counts().sort_index().plot(kind='bar',\n",
    "                                                                                  xlabel='Días desde el último pedido', \n",
    "                                                                                  ylabel='Cantidad órdenes',\n",
    "                                                                                  title='Cantidad de órdenes por días desde el último pedido',\n",
    "                                                                                  grid=True,\n",
    "                                                                                  figsize=(10, 6),\n",
    "                                                                                  rot=50)\n",
    "plt.show()"
   ]
  },
  {
   "cell_type": "markdown",
   "id": "discrete-vertex",
   "metadata": {
    "id": "discrete-vertex"
   },
   "source": [
    "El gráfico muestra que la mayoría de los pedidos se realizan después de intervalos específicos, destacando los picos en 7 y 14 días. Esto sugiere que muchos clientes tienen patrones de compra semanales o mensuales. Los valores mínimos y máximos indican que hay clientes que hacen pedidos tanto de manera muy frecuente (al día siguiente) como después de largos periodos, pero la tendencia principal es la recurrencia mensual y semanal."
   ]
  },
  {
   "cell_type": "markdown",
   "id": "tight-staff",
   "metadata": {
    "id": "tight-staff"
   },
   "source": [
    "# [B] Intermedio (deben completarse todos para aprobar)\n",
    "\n",
    "1. ¿Existe alguna diferencia entre las distribuciones `'order_hour_of_day'` de los miércoles y los sábados? Traza gráficos de barra de `'order_hour_of_day'` para ambos días en la misma figura y describe las diferencias que observes.\n",
    "2. Grafica la distribución para el número de órdenes que hacen los clientes (es decir, cuántos clientes hicieron solo 1 pedido, cuántos hicieron 2, cuántos 3, y así sucesivamente...).\n",
    "3. ¿Cuáles son los 20 principales productos que se piden con más frecuencia (muestra su identificación y nombre)?"
   ]
  },
  {
   "cell_type": "markdown",
   "id": "packed-classic",
   "metadata": {
    "id": "packed-classic"
   },
   "source": [
    "### [B1] Diferencia entre miércoles y sábados para  `'order_hour_of_day'`. Traza gráficos de barra para los dos días y describe las diferencias que veas."
   ]
  },
  {
   "cell_type": "code",
   "execution_count": 61,
   "id": "d89b8403",
   "metadata": {
    "id": "d89b8403"
   },
   "outputs": [
    {
     "data": {
      "image/png": "[encoded data removed]",
      "text/plain": [
       "<Figure size 1000x500 with 1 Axes>"
      ]
     },
     "metadata": {},
     "output_type": "display_data"
    }
   ],
   "source": [
    "df_instacart_orders[df_instacart_orders['order_dow'] == 3]['order_hour_of_day'].value_counts().sort_index().plot(kind='bar',\n",
    "                                                                                                                         xlabel='Hora / 24hrs', \n",
    "                                                                                                                         ylabel='Cantidad órdenes',\n",
    "                                                                                                                         grid=True,\n",
    "                                                                                                                         figsize=(10, 5),\n",
    "                                                                                                                         rot=0,\n",
    "                                                                                                                         alpha =0.5,\n",
    "                                                                                                                         color = 'orange')\n",
    "df_instacart_orders[df_instacart_orders['order_dow'] == 6]['order_hour_of_day'].value_counts().sort_index().plot(kind='bar',\n",
    "                                                                                                                         xlabel='Hora / 24hrs', \n",
    "                                                                                                                         ylabel='Cantidad órdenes',\n",
    "                                                                                                                         title='Comparación de órdenes por hora del día: Miércoles vs Sábados',\n",
    "                                                                                                                         grid=True,\n",
    "                                                                                                                         figsize=(10, 5),\n",
    "                                                                                                                         rot=0, \n",
    "                                                                                                                         alpha=0.5)\n",
    "plt.legend(['Miércoles', 'Sábados'])\n",
    "plt.show()"
   ]
  },
  {
   "cell_type": "markdown",
   "id": "8574aa91-d999-4dc6-85ea-afad1d00ae49",
   "metadata": {},
   "source": [
    "Distribución de pedidos por hora en miércoles y sábados: Se observaron diferencias en los patrones horarios de compra entre ambos días. Por ejemplo, los sábados presentan un mayor volumen de pedidos en horas de la mañana y mediodía, mientras que los miércoles muestran una distribución más uniforme a lo largo del día. Esto sugiere que los hábitos de compra varían según el día de la semana, posiblemente por rutinas laborales y disponibilidad de tiempo."
   ]
  },
  {
   "cell_type": "markdown",
   "id": "e3891143",
   "metadata": {
    "id": "e3891143"
   },
   "source": [
    "### [B2] ¿Cuál es la distribución para el número de pedidos por cliente?"
   ]
  },
  {
   "cell_type": "code",
   "execution_count": 62,
   "id": "d8c26c23",
   "metadata": {
    "id": "d8c26c23"
   },
   "outputs": [
    {
     "data": {
      "image/png": "[encoded data removed]",
      "text/plain": [
       "<Figure size 1000x500 with 1 Axes>"
      ]
     },
     "metadata": {},
     "output_type": "display_data"
    }
   ],
   "source": [
    "df_instacart_orders['user_id'].value_counts().plot(kind='hist', \n",
    "                                                   xlabel='Número de pedidos', \n",
    "                                                   ylabel='Cantidad de clientes',\n",
    "                                                    title='Distribución de clientes según el número de pedidos realizados',\n",
    "                                                    figsize=(10, 5),\n",
    "                                                    bins=20)\n",
    "plt.show()"
   ]
  },
  {
   "cell_type": "markdown",
   "id": "d2eff7d5",
   "metadata": {
    "id": "d2eff7d5"
   },
   "source": [
    "Distribución del número de pedidos por cliente: La mayoría de los clientes realiza pocos pedidos, mientras que un grupo reducido realiza un número significativamente mayor."
   ]
  },
  {
   "cell_type": "markdown",
   "id": "54a0319c",
   "metadata": {
    "id": "54a0319c"
   },
   "source": [
    "### [B3] ¿Cuáles son los 20 productos más populares (muestra su ID y nombre)?"
   ]
  },
  {
   "cell_type": "code",
   "execution_count": 63,
   "id": "exterior-arizona",
   "metadata": {
    "id": "exterior-arizona",
    "scrolled": true
   },
   "outputs": [
    {
     "name": "stdout",
     "output_type": "stream",
     "text": [
      "    product_id  cantidad_pedidos              product_name\n",
      "0        24852             66050                    BANANA\n",
      "1        13176             53297    BAG OF ORGANIC BANANAS\n",
      "2        21137             37039      ORGANIC STRAWBERRIES\n",
      "3        21903             33971      ORGANIC BABY SPINACH\n",
      "4        47209             29773      ORGANIC HASS AVOCADO\n",
      "5        47766             24689           ORGANIC AVOCADO\n",
      "6        47626             21495               LARGE LEMON\n",
      "7        16797             20018              STRAWBERRIES\n",
      "8        26209             19690                     LIMES\n",
      "9        27845             19600        ORGANIC WHOLE MILK\n",
      "10       27966             19197       ORGANIC RASPBERRIES\n",
      "11       22935             15898      ORGANIC YELLOW ONION\n",
      "12       24964             15292            ORGANIC GARLIC\n",
      "13       45007             14584          ORGANIC ZUCCHINI\n",
      "14       39275             13879       ORGANIC BLUEBERRIES\n",
      "15       49683             13675            CUCUMBER KIRBY\n",
      "16       28204             12544        ORGANIC FUJI APPLE\n",
      "17        5876             12232             ORGANIC LEMON\n",
      "18        8277             11993  APPLE HONEYCRISP ORGANIC\n",
      "19       40706             11781    ORGANIC GRAPE TOMATOES\n"
     ]
    }
   ],
   "source": [
    "#obtenemos los 20 productos más pedidos\n",
    "top_20_productos = df_order_products['product_id'].value_counts().head(20)\n",
    "\n",
    "#reseteamos los index del nuevo DF\n",
    "top_20_productos = top_20_productos.reset_index()\n",
    "\n",
    "#renombramos las columnas del nuevo DF\n",
    "top_20_productos.columns = ['product_id', 'cantidad_pedidos']\n",
    "\n",
    "#Enlazamos los datos de los productos de 'top_20_productos' y 'df_products'\n",
    "top_20_productos = top_20_productos.merge(df_products[['product_id', 'product_name']], on='product_id')\n",
    "print(top_20_productos)"
   ]
  },
  {
   "cell_type": "markdown",
   "id": "7df00f47",
   "metadata": {
    "id": "7df00f47"
   },
   "source": [
    "Productos más pedidos: Los productos más solicitados son principalmente frutas y verduras frescas, como plátanos, fresas y espinacas, lo que indica una preferencia por productos frescos y saludables entre los usuarios de la plataforma."
   ]
  },
  {
   "cell_type": "markdown",
   "id": "gross-theme",
   "metadata": {
    "id": "gross-theme"
   },
   "source": [
    "# [C] Difícil (deben completarse todos para aprobar)\n",
    "\n",
    "1. ¿Cuántos artículos suelen comprar las personas en un pedido? ¿Cómo es la distribución?\n",
    "2. ¿Cuáles son los 20 principales artículos que vuelven a pedirse con mayor frecuencia (muestra sus nombres e IDs de los productos)?\n",
    "3. Para cada producto, ¿cuál es la tasa de repetición del pedido (número de repeticiones de pedido/total de pedidos?\n",
    "4. Para cada cliente, ¿qué proporción de los productos que pidió ya los había pedido? Calcula la tasa de repetición de pedido para cada usuario en lugar de para cada producto.\n",
    "5. ¿Cuáles son los 20 principales artículos que la gente pone primero en sus carritos (muestra las IDs de los productos, sus nombres, y el número de veces en que fueron el primer artículo en añadirse al carrito)?"
   ]
  },
  {
   "cell_type": "markdown",
   "id": "romantic-deposit",
   "metadata": {
    "id": "romantic-deposit"
   },
   "source": [
    "### [C1] ¿Cuántos artículos compran normalmente las personas en un pedido? ¿Cómo es la distribución?"
   ]
  },
  {
   "cell_type": "code",
   "execution_count": 64,
   "id": "virtual-punch",
   "metadata": {
    "id": "virtual-punch"
   },
   "outputs": [
    {
     "data": {
      "image/png": "[encoded data removed]",
      "text/plain": [
       "<Figure size 1000x500 with 1 Axes>"
      ]
     },
     "metadata": {},
     "output_type": "display_data"
    }
   ],
   "source": [
    "#Agrupamos por por órdenes para luego contarlos\n",
    "df_order_products.groupby('order_id')['product_id'].count().plot(kind='hist', \n",
    "                                                                  xlabel='Número de productos por pedido', \n",
    "                                                                  ylabel='Cantidad de pedidos',\n",
    "                                                                  title='Distribución de productos por pedido',\n",
    "                                                                  figsize=(10, 5),\n",
    "                                                                  bins=50)\n",
    "plt.show()"
   ]
  },
  {
   "cell_type": "markdown",
   "id": "designed-mortality",
   "metadata": {
    "id": "designed-mortality"
   },
   "source": [
    "El gráfico muestra que la mayoría de los pedidos contienen entre 1 y 10 productos, con una clara tendencia decrecer a medida que aumenta el número de artículos por pedido."
   ]
  },
  {
   "cell_type": "markdown",
   "id": "5e6b5537",
   "metadata": {
    "id": "5e6b5537"
   },
   "source": [
    "### [C2] ¿Cuáles son los 20 principales artículos que vuelven a pedirse con mayor frecuencia (muestra sus nombres e IDs de los productos)?"
   ]
  },
  {
   "cell_type": "code",
   "execution_count": 65,
   "id": "9374e55a",
   "metadata": {
    "id": "9374e55a"
   },
   "outputs": [
    {
     "name": "stdout",
     "output_type": "stream",
     "text": [
      "    product_id  cantidad_repetidos              product_name\n",
      "0        24852               55763                    BANANA\n",
      "1        13176               44450    BAG OF ORGANIC BANANAS\n",
      "2        21137               28639      ORGANIC STRAWBERRIES\n",
      "3        21903               26233      ORGANIC BABY SPINACH\n",
      "4        47209               23629      ORGANIC HASS AVOCADO\n",
      "5        47766               18743           ORGANIC AVOCADO\n",
      "6        27845               16251        ORGANIC WHOLE MILK\n",
      "7        47626               15044               LARGE LEMON\n",
      "8        27966               14748       ORGANIC RASPBERRIES\n",
      "9        16797               13945              STRAWBERRIES\n",
      "10       26209               13327                     LIMES\n",
      "11       22935               11145      ORGANIC YELLOW ONION\n",
      "12       24964               10411            ORGANIC GARLIC\n",
      "13       45007               10076          ORGANIC ZUCCHINI\n",
      "14       49683                9538            CUCUMBER KIRBY\n",
      "15       28204                8989        ORGANIC FUJI APPLE\n",
      "16        8277                8836  APPLE HONEYCRISP ORGANIC\n",
      "17       39275                8799       ORGANIC BLUEBERRIES\n",
      "18        5876                8412             ORGANIC LEMON\n",
      "19       49235                8389       ORGANIC HALF & HALF\n"
     ]
    }
   ],
   "source": [
    "# Filtra las filas donde el producto fue reordenado ('reordered' == 1), \n",
    "# cuenta cuántas veces se reordenó cada 'product_id' y selecciona los 20 más frecuentes\n",
    "top_20_repetidos = df_order_products[df_order_products['reordered'] == 1]['product_id'].value_counts().head(20)\n",
    "\n",
    "# Convierte el resultado anterior en un DataFrame y reinicia el índice para que 'product_id' sea una columna\n",
    "top_20_repetidos = top_20_repetidos.reset_index()\n",
    "\n",
    "# Renombra las columnas para mayor claridad\n",
    "top_20_repetidos.columns = ['product_id', 'cantidad_repetidos']\n",
    "\n",
    "# Une el DataFrame con la tabla de productos para obtener el nombre de cada producto\n",
    "top_20_repetidos = top_20_repetidos.merge(df_products[['product_id', 'product_name']], on='product_id')\n",
    "\n",
    "# Muestra el resultado final\n",
    "print(top_20_repetidos)"
   ]
  },
  {
   "cell_type": "markdown",
   "id": "80e70c74",
   "metadata": {
    "id": "80e70c74"
   },
   "source": [
    "Se observa que los productos más reordenados son principalmente frutas y verduras frescas, como plátanos, fresas, espinacas y aguacates. Esto indica que estos productos forman parte esencial de las compras recurrentes de los usuarios."
   ]
  },
  {
   "cell_type": "markdown",
   "id": "9d312b14",
   "metadata": {
    "id": "9d312b14"
   },
   "source": [
    "### [C3] Para cada producto, ¿cuál es la proporción de las veces que se pide y que se vuelve a pedir?"
   ]
  },
  {
   "cell_type": "code",
   "execution_count": 66,
   "id": "8ae9f4b1",
   "metadata": {
    "id": "8ae9f4b1"
   },
   "outputs": [],
   "source": [
    "# Calcula la tasa de repetición para cada producto: veces que se vuelve a pedir\n",
    "df_product_reorder_rate = df_order_products.groupby('product_id')['reordered'].mean().reset_index()\n",
    "df_product_reorder_rate.columns = ['product_id', 'reorder_rate']\n",
    "\n",
    "# Une con los nombres de los productos para mejor interpretación\n",
    "df_product_reorder_rate = df_product_reorder_rate.merge(df_products[['product_id', 'product_name']], on='product_id')"
   ]
  },
  {
   "cell_type": "code",
   "execution_count": 67,
   "id": "479cbda5-02bf-4cae-962a-ca2e892bbed0",
   "metadata": {},
   "outputs": [
    {
     "data": {
      "image/png": "[encoded data removed]",
      "text/plain": [
       "<Figure size 1000x500 with 1 Axes>"
      ]
     },
     "metadata": {},
     "output_type": "display_data"
    }
   ],
   "source": [
    "# Usamos un histograma para ver la tasa de reordenamiento\n",
    "df_product_reorder_rate['reorder_rate'].plot(kind='hist', bins=30, figsize=(10,5), grid=True,\n",
    "                                             xlabel='Tasa de repetición', \n",
    "                                             ylabel='Cantidad de productos',\n",
    "                                             title='Distribución de la tasa de repetición por producto')\n",
    "plt.show()"
   ]
  },
  {
   "cell_type": "markdown",
   "id": "I10dEIAyldcO",
   "metadata": {
    "id": "I10dEIAyldcO"
   },
   "source": [
    "La gráfica muestra que la mayoría de los productos tienen una tasa de repetición intermedia, es decir, son reordenados por los clientes en una proporción moderada. Sin embargo, existen algunos productos con tasas de repetición muy altas, lo que indica que son artículos de compra frecuente, mientras que otros productos presentan tasas bajas, sugiriendo que suelen ser adquiridos solo ocasionalmente o por primera vez.\n"
   ]
  },
  {
   "cell_type": "markdown",
   "id": "subject-boxing",
   "metadata": {
    "id": "subject-boxing"
   },
   "source": [
    "### [C4] Para cada cliente, ¿qué proporción de sus productos ya los había pedido?"
   ]
  },
  {
   "cell_type": "code",
   "execution_count": 68,
   "id": "medical-couple",
   "metadata": {
    "id": "medical-couple",
    "scrolled": true
   },
   "outputs": [],
   "source": [
    "# agrega la columna 'user_id' a cada fila de df_order_products, permitiendo saber a qué usuario pertenece cada pedido.\n",
    "df_user_reorder = df_order_products.merge(df_instacart_orders[['order_id', 'user_id']], on='order_id')\n",
    "\n",
    "# Se agrupa el DataFrame resultante por 'user_id' y se calcula el promedio de la columna 'reordered' para cada usuario.\n",
    "user_reorder_rate = df_user_reorder.groupby('user_id')['reordered'].mean().reset_index()\n",
    "\n",
    "# Se renombran las columnas para mayor claridad.\n",
    "user_reorder_rate.columns = ['user_id', 'reorder_rate']"
   ]
  },
  {
   "cell_type": "code",
   "execution_count": 69,
   "id": "e7e5768d-e1d3-4ac0-bcd5-e7039aa55a28",
   "metadata": {},
   "outputs": [
    {
     "data": {
      "image/png": "[encoded data removed]",
      "text/plain": [
       "<Figure size 1000x500 with 1 Axes>"
      ]
     },
     "metadata": {},
     "output_type": "display_data"
    }
   ],
   "source": [
    "user_reorder_rate['reorder_rate'].plot(kind='hist', bins=30, figsize=(10,5), grid=True,\n",
    "                                       xlabel='Tasa de repetición por usuario',\n",
    "                                       ylabel='Cantidad de usuarios',\n",
    "                                       title='Distribución de la tasa de repetición por usuario')\n",
    "plt.show()"
   ]
  },
  {
   "cell_type": "markdown",
   "id": "BgJSvXDsleXz",
   "metadata": {
    "id": "BgJSvXDsleXz"
   },
   "source": [
    "Se visualiza que existe una amplia variabilidad en los hábitos de recompra entre los clientes. Mientras que algunos usuarios tienden a repetir la compra de productos con frecuencia, otros presentan tasas de repetición mucho menores. La mayoría de los usuarios tiene una tasa de repetición intermedia, lo que indica que suelen volver a pedir algunos de los productos que ya han comprado anteriormente."
   ]
  },
  {
   "cell_type": "markdown",
   "id": "92d35137",
   "metadata": {
    "id": "92d35137"
   },
   "source": [
    "### [C5] ¿Cuáles son los 20 principales artículos que las personas ponen primero en sus carritos?"
   ]
  },
  {
   "cell_type": "code",
   "execution_count": 70,
   "id": "0ae57274",
   "metadata": {
    "id": "0ae57274",
    "scrolled": true
   },
   "outputs": [
    {
     "name": "stdout",
     "output_type": "stream",
     "text": [
      "    product_id  amount                 product_name\n",
      "0        24852   15562                       BANANA\n",
      "1        13176   11026       BAG OF ORGANIC BANANAS\n",
      "2        27845    4363           ORGANIC WHOLE MILK\n",
      "3        21137    3946         ORGANIC STRAWBERRIES\n",
      "4        47209    3390         ORGANIC HASS AVOCADO\n",
      "5        21903    3336         ORGANIC BABY SPINACH\n",
      "6        47766    3044              ORGANIC AVOCADO\n",
      "7        19660    2336                 SPRING WATER\n",
      "8        16797    2308                 STRAWBERRIES\n",
      "9        27966    2024          ORGANIC RASPBERRIES\n",
      "10       44632    1914   SPARKLING WATER GRAPEFRUIT\n",
      "11       49235    1797          ORGANIC HALF & HALF\n",
      "12       47626    1737                  LARGE LEMON\n",
      "13         196    1733                         SODA\n",
      "14       38689    1397     ORGANIC REDUCED FAT MILK\n",
      "15       26209    1370                        LIMES\n",
      "16       12341    1340                HASS AVOCADOS\n",
      "17        5785    1310  ORGANIC REDUCED FAT 2% MILK\n",
      "18       27086    1309                  HALF & HALF\n",
      "19       43352    1246                  RASPBERRIES\n"
     ]
    }
   ],
   "source": [
    "# Filtra las filas donde el producto fue el primero en añadirse al carrito ('add_to_cart_order' == 1)\n",
    "primeros_productos = df_order_products[df_order_products['add_to_cart_order'] == 1]['product_id'].value_counts().head(20)\n",
    "\n",
    "# Convierte el resultado en un DataFrame y reinicia el índice para que 'product_id' sea una columna\n",
    "primeros_productos = primeros_productos.reset_index()\n",
    "\n",
    "# Renombra las columnas para mayor claridad\n",
    "primeros_productos.columns = ['product_id', 'amount']\n",
    "\n",
    "# Une el DataFrame con la tabla de productos para obtener el nombre de cada producto\n",
    "primeros_productos = primeros_productos.merge(df_products[['product_id', 'product_name']], on='product_id')\n",
    "\n",
    "# Muestra el resultado final\n",
    "print(primeros_productos)"
   ]
  },
  {
   "cell_type": "markdown",
   "id": "28ce9872",
   "metadata": {
    "id": "28ce9872"
   },
   "source": [
    "Se observa que los productos más comunes en esta posición son principalmente frutas frescas, lácteos y bebidas, como plátanos, leche y agua. Esto sugiere que estos artículos suelen ser prioritarios o esenciales en las compras de los usuarios, probablemente porque forman parte habitual de su lista de compras o son productos de consumo recurrente."
   ]
  },
  {
   "cell_type": "markdown",
   "id": "uITbFCEoDosC",
   "metadata": {
    "id": "uITbFCEoDosC"
   },
   "source": [
    "### Conclusion general del proyecto:"
   ]
  },
  {
   "cell_type": "markdown",
   "id": "1992ffc9-579a-4cc9-b31a-82bf7d7263a1",
   "metadata": {
    "id": "Nk-4GS7mDwqY"
   },
   "source": [
    "Durante el desarrollo del proyecto, se realizó un exhaustivo proceso de limpieza y análisis de los datos de pedidos de Instacart. Se identificaron y eliminaron duplicados, se gestionaron valores ausentes de manera adecuada y se validó la integridad de los datos en las tablas principales. El análisis exploratorio permitió descubrir patrones de comportamiento de los usuarios, como la preferencia por realizar pedidos en ciertos días y horas, la recurrencia en la compra de productos frescos y la existencia de hábitos de recompra tanto a nivel de producto como de usuario. Estos hallazgos proporcionan información valiosa para la toma de decisiones comerciales, la personalización de ofertas y la optimización de la experiencia del cliente en plataformas de compras en línea."
   ]
  }
 ],
 "metadata": {
  "colab": {
   "provenance": [
    {
     "file_id": "1aLGZ19-GYem3LZdYHuzuwYIeSw_tr0AT",
     "timestamp": 1689682143157
    }
   ]
  },
  "kernelspec": {
   "display_name": "base",
   "language": "python",
   "name": "python3"
  },
  "language_info": {
   "codemirror_mode": {
    "name": "ipython",
    "version": 3
   },
   "file_extension": ".py",
   "mimetype": "text/x-python",
   "name": "python",
   "nbconvert_exporter": "python",
   "pygments_lexer": "ipython3",
   "version": "3.13.5"
  }
 },
 "nbformat": 4,
 "nbformat_minor": 5
}
